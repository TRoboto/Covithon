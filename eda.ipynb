{
 "cells": [
  {
   "cell_type": "code",
   "execution_count": 18,
   "metadata": {},
   "outputs": [],
   "source": [
    "import pandas as pd\n",
    "import numpy as np\n",
    "import matplotlib.pyplot as plt\n",
    "import seaborn as sns"
   ]
  },
  {
   "cell_type": "code",
   "execution_count": 756,
   "metadata": {},
   "outputs": [],
   "source": [
    "df = pd.read_csv(\"train.csv\")"
   ]
  },
  {
   "cell_type": "code",
   "execution_count": 697,
   "metadata": {},
   "outputs": [
    {
     "data": {
      "text/html": [
       "<div>\n",
       "<style scoped>\n",
       "    .dataframe tbody tr th:only-of-type {\n",
       "        vertical-align: middle;\n",
       "    }\n",
       "\n",
       "    .dataframe tbody tr th {\n",
       "        vertical-align: top;\n",
       "    }\n",
       "\n",
       "    .dataframe thead th {\n",
       "        text-align: right;\n",
       "    }\n",
       "</style>\n",
       "<table border=\"1\" class=\"dataframe\">\n",
       "  <thead>\n",
       "    <tr style=\"text-align: right;\">\n",
       "      <th></th>\n",
       "      <th>gender</th>\n",
       "      <th>full_name</th>\n",
       "      <th>year_of_birth</th>\n",
       "      <th>weight</th>\n",
       "      <th>height</th>\n",
       "      <th>eye_color</th>\n",
       "      <th>race</th>\n",
       "      <th>accommodation_type</th>\n",
       "      <th>education_status</th>\n",
       "      <th>blood_type</th>\n",
       "      <th>...</th>\n",
       "      <th>owns_a_pet</th>\n",
       "      <th>has_health_insurance</th>\n",
       "      <th>has_cancer</th>\n",
       "      <th>smokes</th>\n",
       "      <th>has_alzheimers</th>\n",
       "      <th>facial_hair</th>\n",
       "      <th>daily_household_water_usage</th>\n",
       "      <th>diet_type</th>\n",
       "      <th>fast_food_meals_per_month</th>\n",
       "      <th>infected</th>\n",
       "    </tr>\n",
       "  </thead>\n",
       "  <tbody>\n",
       "    <tr>\n",
       "      <th>0</th>\n",
       "      <td>male</td>\n",
       "      <td>Gerald Valentine</td>\n",
       "      <td>2024</td>\n",
       "      <td>8.69</td>\n",
       "      <td>52.32</td>\n",
       "      <td>brown</td>\n",
       "      <td>black</td>\n",
       "      <td>apartment</td>\n",
       "      <td>not_applicable</td>\n",
       "      <td>A+</td>\n",
       "      <td>...</td>\n",
       "      <td>no</td>\n",
       "      <td>no</td>\n",
       "      <td>no</td>\n",
       "      <td>no</td>\n",
       "      <td>no</td>\n",
       "      <td>none</td>\n",
       "      <td>1471.95</td>\n",
       "      <td>regular</td>\n",
       "      <td>2</td>\n",
       "      <td>0</td>\n",
       "    </tr>\n",
       "    <tr>\n",
       "      <th>1</th>\n",
       "      <td>male</td>\n",
       "      <td>Chad Sell</td>\n",
       "      <td>1956</td>\n",
       "      <td>93.21</td>\n",
       "      <td>157.04</td>\n",
       "      <td>brown</td>\n",
       "      <td>asian</td>\n",
       "      <td>villa</td>\n",
       "      <td>associate_degree</td>\n",
       "      <td>AB+</td>\n",
       "      <td>...</td>\n",
       "      <td>no</td>\n",
       "      <td>no</td>\n",
       "      <td>no</td>\n",
       "      <td>no</td>\n",
       "      <td>no</td>\n",
       "      <td>short</td>\n",
       "      <td>1969.39</td>\n",
       "      <td>regular</td>\n",
       "      <td>0</td>\n",
       "      <td>0</td>\n",
       "    </tr>\n",
       "    <tr>\n",
       "      <th>2</th>\n",
       "      <td>male</td>\n",
       "      <td>Alex Crawford</td>\n",
       "      <td>1949</td>\n",
       "      <td>83.79</td>\n",
       "      <td>187.70</td>\n",
       "      <td>brown</td>\n",
       "      <td>white</td>\n",
       "      <td>apartment</td>\n",
       "      <td>associate_degree</td>\n",
       "      <td>B+</td>\n",
       "      <td>...</td>\n",
       "      <td>yes</td>\n",
       "      <td>no</td>\n",
       "      <td>no</td>\n",
       "      <td>no</td>\n",
       "      <td>yes</td>\n",
       "      <td>none</td>\n",
       "      <td>366.43</td>\n",
       "      <td>regular</td>\n",
       "      <td>16</td>\n",
       "      <td>0</td>\n",
       "    </tr>\n",
       "    <tr>\n",
       "      <th>3</th>\n",
       "      <td>female</td>\n",
       "      <td>Mildred Valentine</td>\n",
       "      <td>1992</td>\n",
       "      <td>90.29</td>\n",
       "      <td>159.20</td>\n",
       "      <td>brown</td>\n",
       "      <td>middle_eastern</td>\n",
       "      <td>apartment</td>\n",
       "      <td>high_school</td>\n",
       "      <td>O+</td>\n",
       "      <td>...</td>\n",
       "      <td>yes</td>\n",
       "      <td>yes</td>\n",
       "      <td>no</td>\n",
       "      <td>no</td>\n",
       "      <td>no</td>\n",
       "      <td>none</td>\n",
       "      <td>1548.20</td>\n",
       "      <td>regular</td>\n",
       "      <td>1</td>\n",
       "      <td>1</td>\n",
       "    </tr>\n",
       "    <tr>\n",
       "      <th>4</th>\n",
       "      <td>male</td>\n",
       "      <td>Francisco Hill</td>\n",
       "      <td>2013</td>\n",
       "      <td>40.23</td>\n",
       "      <td>96.61</td>\n",
       "      <td>brown</td>\n",
       "      <td>asian</td>\n",
       "      <td>apartment</td>\n",
       "      <td>not_applicable</td>\n",
       "      <td>O-</td>\n",
       "      <td>...</td>\n",
       "      <td>yes</td>\n",
       "      <td>yes</td>\n",
       "      <td>no</td>\n",
       "      <td>no</td>\n",
       "      <td>no</td>\n",
       "      <td>long</td>\n",
       "      <td>361.75</td>\n",
       "      <td>regular</td>\n",
       "      <td>12</td>\n",
       "      <td>0</td>\n",
       "    </tr>\n",
       "  </tbody>\n",
       "</table>\n",
       "<p>5 rows × 29 columns</p>\n",
       "</div>"
      ],
      "text/plain": [
       "   gender          full_name  year_of_birth  weight  height eye_color  \\\n",
       "0    male   Gerald Valentine           2024    8.69   52.32     brown   \n",
       "1    male          Chad Sell           1956   93.21  157.04     brown   \n",
       "2    male      Alex Crawford           1949   83.79  187.70     brown   \n",
       "3  female  Mildred Valentine           1992   90.29  159.20     brown   \n",
       "4    male     Francisco Hill           2013   40.23   96.61     brown   \n",
       "\n",
       "             race accommodation_type  education_status blood_type  ...  \\\n",
       "0           black          apartment    not_applicable         A+  ...   \n",
       "1           asian              villa  associate_degree        AB+  ...   \n",
       "2           white          apartment  associate_degree         B+  ...   \n",
       "3  middle_eastern          apartment       high_school         O+  ...   \n",
       "4           asian          apartment    not_applicable         O-  ...   \n",
       "\n",
       "   owns_a_pet  has_health_insurance has_cancer smokes has_alzheimers  \\\n",
       "0          no                    no         no     no             no   \n",
       "1          no                    no         no     no             no   \n",
       "2         yes                    no         no     no            yes   \n",
       "3         yes                   yes         no     no             no   \n",
       "4         yes                   yes         no     no             no   \n",
       "\n",
       "  facial_hair daily_household_water_usage diet_type fast_food_meals_per_month  \\\n",
       "0        none                     1471.95   regular                         2   \n",
       "1       short                     1969.39   regular                         0   \n",
       "2        none                      366.43   regular                        16   \n",
       "3        none                     1548.20   regular                         1   \n",
       "4        long                      361.75   regular                        12   \n",
       "\n",
       "  infected  \n",
       "0        0  \n",
       "1        0  \n",
       "2        0  \n",
       "3        1  \n",
       "4        0  \n",
       "\n",
       "[5 rows x 29 columns]"
      ]
     },
     "execution_count": 697,
     "metadata": {},
     "output_type": "execute_result"
    }
   ],
   "source": [
    "df.head()"
   ]
  },
  {
   "cell_type": "code",
   "execution_count": 10,
   "metadata": {},
   "outputs": [
    {
     "name": "stdout",
     "output_type": "stream",
     "text": [
      "<class 'pandas.core.frame.DataFrame'>\n",
      "RangeIndex: 8000 entries, 0 to 7999\n",
      "Data columns (total 29 columns):\n",
      " #   Column                       Non-Null Count  Dtype  \n",
      "---  ------                       --------------  -----  \n",
      " 0   gender                       8000 non-null   object \n",
      " 1   full_name                    8000 non-null   object \n",
      " 2   year_of_birth                8000 non-null   int64  \n",
      " 3   weight                       8000 non-null   float64\n",
      " 4   height                       8000 non-null   float64\n",
      " 5   eye_color                    8000 non-null   object \n",
      " 6   race                         8000 non-null   object \n",
      " 7   accommodation_type           8000 non-null   object \n",
      " 8   education_status             8000 non-null   object \n",
      " 9   blood_type                   8000 non-null   object \n",
      " 10  family_members_count         8000 non-null   int64  \n",
      " 11  avg_sleep_hours              8000 non-null   int64  \n",
      " 12  occupation                   8000 non-null   object \n",
      " 13  living_area                  8000 non-null   object \n",
      " 14  sports_engagement            8000 non-null   object \n",
      " 15  favorite_music_genre         8000 non-null   object \n",
      " 16  favorite_color               8000 non-null   object \n",
      " 17  owned_car_brand              8000 non-null   object \n",
      " 18  hours_worked_each_week       8000 non-null   object \n",
      " 19  owns_a_pet                   8000 non-null   object \n",
      " 20  has_health_insurance         8000 non-null   object \n",
      " 21  has_cancer                   8000 non-null   object \n",
      " 22  smokes                       8000 non-null   object \n",
      " 23  has_alzheimers               8000 non-null   object \n",
      " 24  facial_hair                  8000 non-null   object \n",
      " 25  daily_household_water_usage  8000 non-null   float64\n",
      " 26  diet_type                    8000 non-null   object \n",
      " 27  fast_food_meals_per_month    8000 non-null   int64  \n",
      " 28  infected                     8000 non-null   int64  \n",
      "dtypes: float64(3), int64(5), object(21)\n",
      "memory usage: 1.8+ MB\n"
     ]
    }
   ],
   "source": [
    "df.info()"
   ]
  },
  {
   "cell_type": "code",
   "execution_count": 11,
   "metadata": {},
   "outputs": [
    {
     "data": {
      "text/html": [
       "<div>\n",
       "<style scoped>\n",
       "    .dataframe tbody tr th:only-of-type {\n",
       "        vertical-align: middle;\n",
       "    }\n",
       "\n",
       "    .dataframe tbody tr th {\n",
       "        vertical-align: top;\n",
       "    }\n",
       "\n",
       "    .dataframe thead th {\n",
       "        text-align: right;\n",
       "    }\n",
       "</style>\n",
       "<table border=\"1\" class=\"dataframe\">\n",
       "  <thead>\n",
       "    <tr style=\"text-align: right;\">\n",
       "      <th></th>\n",
       "      <th>year_of_birth</th>\n",
       "      <th>weight</th>\n",
       "      <th>height</th>\n",
       "      <th>family_members_count</th>\n",
       "      <th>avg_sleep_hours</th>\n",
       "      <th>daily_household_water_usage</th>\n",
       "      <th>fast_food_meals_per_month</th>\n",
       "      <th>infected</th>\n",
       "    </tr>\n",
       "  </thead>\n",
       "  <tbody>\n",
       "    <tr>\n",
       "      <th>count</th>\n",
       "      <td>8000.000000</td>\n",
       "      <td>8000.000000</td>\n",
       "      <td>8000.000000</td>\n",
       "      <td>8000.000000</td>\n",
       "      <td>8000.000000</td>\n",
       "      <td>8000.000000</td>\n",
       "      <td>8000.000000</td>\n",
       "      <td>8000.000000</td>\n",
       "    </tr>\n",
       "    <tr>\n",
       "      <th>mean</th>\n",
       "      <td>1986.115250</td>\n",
       "      <td>66.369172</td>\n",
       "      <td>151.974645</td>\n",
       "      <td>5.249375</td>\n",
       "      <td>8.605625</td>\n",
       "      <td>1787.430374</td>\n",
       "      <td>8.166375</td>\n",
       "      <td>0.348625</td>\n",
       "    </tr>\n",
       "    <tr>\n",
       "      <th>std</th>\n",
       "      <td>23.579058</td>\n",
       "      <td>25.816626</td>\n",
       "      <td>43.963759</td>\n",
       "      <td>3.057876</td>\n",
       "      <td>1.789831</td>\n",
       "      <td>1072.710911</td>\n",
       "      <td>8.426614</td>\n",
       "      <td>0.476565</td>\n",
       "    </tr>\n",
       "    <tr>\n",
       "      <th>min</th>\n",
       "      <td>1920.000000</td>\n",
       "      <td>6.100000</td>\n",
       "      <td>39.550000</td>\n",
       "      <td>1.000000</td>\n",
       "      <td>3.000000</td>\n",
       "      <td>228.060000</td>\n",
       "      <td>0.000000</td>\n",
       "      <td>0.000000</td>\n",
       "    </tr>\n",
       "    <tr>\n",
       "      <th>25%</th>\n",
       "      <td>1969.000000</td>\n",
       "      <td>53.137500</td>\n",
       "      <td>147.650000</td>\n",
       "      <td>3.000000</td>\n",
       "      <td>7.000000</td>\n",
       "      <td>1061.332500</td>\n",
       "      <td>2.000000</td>\n",
       "      <td>0.000000</td>\n",
       "    </tr>\n",
       "    <tr>\n",
       "      <th>50%</th>\n",
       "      <td>1987.000000</td>\n",
       "      <td>71.790000</td>\n",
       "      <td>169.440000</td>\n",
       "      <td>5.000000</td>\n",
       "      <td>8.000000</td>\n",
       "      <td>1625.705000</td>\n",
       "      <td>5.000000</td>\n",
       "      <td>0.000000</td>\n",
       "    </tr>\n",
       "    <tr>\n",
       "      <th>75%</th>\n",
       "      <td>2006.000000</td>\n",
       "      <td>83.952500</td>\n",
       "      <td>180.022500</td>\n",
       "      <td>6.000000</td>\n",
       "      <td>10.000000</td>\n",
       "      <td>2270.910000</td>\n",
       "      <td>12.000000</td>\n",
       "      <td>1.000000</td>\n",
       "    </tr>\n",
       "    <tr>\n",
       "      <th>max</th>\n",
       "      <td>2024.000000</td>\n",
       "      <td>138.670000</td>\n",
       "      <td>229.470000</td>\n",
       "      <td>15.000000</td>\n",
       "      <td>16.000000</td>\n",
       "      <td>6844.540000</td>\n",
       "      <td>40.000000</td>\n",
       "      <td>1.000000</td>\n",
       "    </tr>\n",
       "  </tbody>\n",
       "</table>\n",
       "</div>"
      ],
      "text/plain": [
       "       year_of_birth       weight       height  family_members_count  \\\n",
       "count    8000.000000  8000.000000  8000.000000           8000.000000   \n",
       "mean     1986.115250    66.369172   151.974645              5.249375   \n",
       "std        23.579058    25.816626    43.963759              3.057876   \n",
       "min      1920.000000     6.100000    39.550000              1.000000   \n",
       "25%      1969.000000    53.137500   147.650000              3.000000   \n",
       "50%      1987.000000    71.790000   169.440000              5.000000   \n",
       "75%      2006.000000    83.952500   180.022500              6.000000   \n",
       "max      2024.000000   138.670000   229.470000             15.000000   \n",
       "\n",
       "       avg_sleep_hours  daily_household_water_usage  \\\n",
       "count      8000.000000                  8000.000000   \n",
       "mean          8.605625                  1787.430374   \n",
       "std           1.789831                  1072.710911   \n",
       "min           3.000000                   228.060000   \n",
       "25%           7.000000                  1061.332500   \n",
       "50%           8.000000                  1625.705000   \n",
       "75%          10.000000                  2270.910000   \n",
       "max          16.000000                  6844.540000   \n",
       "\n",
       "       fast_food_meals_per_month     infected  \n",
       "count                8000.000000  8000.000000  \n",
       "mean                    8.166375     0.348625  \n",
       "std                     8.426614     0.476565  \n",
       "min                     0.000000     0.000000  \n",
       "25%                     2.000000     0.000000  \n",
       "50%                     5.000000     0.000000  \n",
       "75%                    12.000000     1.000000  \n",
       "max                    40.000000     1.000000  "
      ]
     },
     "execution_count": 11,
     "metadata": {},
     "output_type": "execute_result"
    }
   ],
   "source": [
    "df.describe()"
   ]
  },
  {
   "cell_type": "code",
   "execution_count": 12,
   "metadata": {},
   "outputs": [
    {
     "data": {
      "text/plain": [
       "gender                         0\n",
       "full_name                      0\n",
       "year_of_birth                  0\n",
       "weight                         0\n",
       "height                         0\n",
       "eye_color                      0\n",
       "race                           0\n",
       "accommodation_type             0\n",
       "education_status               0\n",
       "blood_type                     0\n",
       "family_members_count           0\n",
       "avg_sleep_hours                0\n",
       "occupation                     0\n",
       "living_area                    0\n",
       "sports_engagement              0\n",
       "favorite_music_genre           0\n",
       "favorite_color                 0\n",
       "owned_car_brand                0\n",
       "hours_worked_each_week         0\n",
       "owns_a_pet                     0\n",
       "has_health_insurance           0\n",
       "has_cancer                     0\n",
       "smokes                         0\n",
       "has_alzheimers                 0\n",
       "facial_hair                    0\n",
       "daily_household_water_usage    0\n",
       "diet_type                      0\n",
       "fast_food_meals_per_month      0\n",
       "infected                       0\n",
       "dtype: int64"
      ]
     },
     "execution_count": 12,
     "metadata": {},
     "output_type": "execute_result"
    }
   ],
   "source": [
    "df.isnull().sum()"
   ]
  },
  {
   "cell_type": "code",
   "execution_count": 429,
   "metadata": {},
   "outputs": [
    {
     "data": {
      "text/plain": [
       "gender                            2\n",
       "year_of_birth                   105\n",
       "weight                         5106\n",
       "height                         5060\n",
       "eye_color                         6\n",
       "race                              4\n",
       "accommodation_type                5\n",
       "education_status                  6\n",
       "blood_type                        8\n",
       "family_members_count             15\n",
       "avg_sleep_hours                  14\n",
       "occupation                        8\n",
       "living_area                       4\n",
       "sports_engagement                 4\n",
       "favorite_music_genre              7\n",
       "favorite_color                    7\n",
       "owned_car_brand                  10\n",
       "hours_worked_each_week           30\n",
       "owns_a_pet                        2\n",
       "has_health_insurance              2\n",
       "has_cancer                        2\n",
       "smokes                            2\n",
       "has_alzheimers                    2\n",
       "facial_hair                       3\n",
       "daily_household_water_usage    7892\n",
       "diet_type                         6\n",
       "fast_food_meals_per_month        41\n",
       "infected                          2\n",
       "dtype: int64"
      ]
     },
     "execution_count": 429,
     "metadata": {},
     "output_type": "execute_result"
    }
   ],
   "source": [
    "df.nunique()"
   ]
  },
  {
   "cell_type": "code",
   "execution_count": 763,
   "metadata": {},
   "outputs": [
    {
     "name": "stdout",
     "output_type": "stream",
     "text": [
      "\n"
     ]
    },
    {
     "data": {
      "image/png": "[encoded data removed]",
      "text/plain": [
       "<Figure size 2160x1440 with 1 Axes>"
      ]
     },
     "metadata": {
      "needs_background": "light"
     },
     "output_type": "display_data"
    }
   ],
   "source": [
    "plt.figure(figsize = (30,20))\n",
    "chart = sns.countplot(x = 'year_of_birth', hue='infected', data = df)\n",
    "chart.set_xticklabels(chart.get_xticklabels(), rotation=90, horizontalalignment='right')\n",
    "print()"
   ]
  },
  {
   "cell_type": "code",
   "execution_count": 764,
   "metadata": {},
   "outputs": [],
   "source": [
    "cols_remove = ['hours_worked_each_week', 'year_of_birth', 'full_name', 'facial_hair', 'owned_car_brand', 'favorite_color',\\\n",
    "               'favorite_music_genre', 'education_status', 'eye_color', 'accommodation_type', 'occupation']"
   ]
  },
  {
   "cell_type": "code",
   "execution_count": 765,
   "metadata": {},
   "outputs": [],
   "source": [
    "df = df.drop(columns = cols_remove)"
   ]
  },
  {
   "cell_type": "code",
   "execution_count": 20,
   "metadata": {},
   "outputs": [],
   "source": [
    "# Missing values\n",
    "def check_null_values(df):\n",
    "    null_df = pd.DataFrame({'columns': df.columns, \n",
    "                            'percent_null': df.isnull().sum() * 100 / len(df), \n",
    "                            'percent_zero': df.isin([0]).sum() * 100 / len(df),\n",
    "                            'percent_none': df.isin(['None']).sum() * 100 / len(df),\n",
    "                            'percent_qmark': df.isin(['?']).sum() * 100 / len(df)\n",
    "                           } )\n",
    "    return null_df"
   ]
  },
  {
   "cell_type": "code",
   "execution_count": 766,
   "metadata": {},
   "outputs": [
    {
     "data": {
      "text/html": [
       "<div>\n",
       "<style scoped>\n",
       "    .dataframe tbody tr th:only-of-type {\n",
       "        vertical-align: middle;\n",
       "    }\n",
       "\n",
       "    .dataframe tbody tr th {\n",
       "        vertical-align: top;\n",
       "    }\n",
       "\n",
       "    .dataframe thead th {\n",
       "        text-align: right;\n",
       "    }\n",
       "</style>\n",
       "<table border=\"1\" class=\"dataframe\">\n",
       "  <thead>\n",
       "    <tr style=\"text-align: right;\">\n",
       "      <th></th>\n",
       "      <th>columns</th>\n",
       "      <th>percent_null</th>\n",
       "      <th>percent_zero</th>\n",
       "      <th>percent_none</th>\n",
       "      <th>percent_qmark</th>\n",
       "    </tr>\n",
       "  </thead>\n",
       "  <tbody>\n",
       "    <tr>\n",
       "      <th>gender</th>\n",
       "      <td>gender</td>\n",
       "      <td>0.0</td>\n",
       "      <td>0.0000</td>\n",
       "      <td>0.0</td>\n",
       "      <td>0.0</td>\n",
       "    </tr>\n",
       "    <tr>\n",
       "      <th>weight</th>\n",
       "      <td>weight</td>\n",
       "      <td>0.0</td>\n",
       "      <td>0.0000</td>\n",
       "      <td>0.0</td>\n",
       "      <td>0.0</td>\n",
       "    </tr>\n",
       "    <tr>\n",
       "      <th>height</th>\n",
       "      <td>height</td>\n",
       "      <td>0.0</td>\n",
       "      <td>0.0000</td>\n",
       "      <td>0.0</td>\n",
       "      <td>0.0</td>\n",
       "    </tr>\n",
       "    <tr>\n",
       "      <th>race</th>\n",
       "      <td>race</td>\n",
       "      <td>0.0</td>\n",
       "      <td>0.0000</td>\n",
       "      <td>0.0</td>\n",
       "      <td>0.0</td>\n",
       "    </tr>\n",
       "    <tr>\n",
       "      <th>blood_type</th>\n",
       "      <td>blood_type</td>\n",
       "      <td>0.0</td>\n",
       "      <td>0.0000</td>\n",
       "      <td>0.0</td>\n",
       "      <td>0.0</td>\n",
       "    </tr>\n",
       "    <tr>\n",
       "      <th>family_members_count</th>\n",
       "      <td>family_members_count</td>\n",
       "      <td>0.0</td>\n",
       "      <td>0.0000</td>\n",
       "      <td>0.0</td>\n",
       "      <td>0.0</td>\n",
       "    </tr>\n",
       "    <tr>\n",
       "      <th>avg_sleep_hours</th>\n",
       "      <td>avg_sleep_hours</td>\n",
       "      <td>0.0</td>\n",
       "      <td>0.0000</td>\n",
       "      <td>0.0</td>\n",
       "      <td>0.0</td>\n",
       "    </tr>\n",
       "    <tr>\n",
       "      <th>occupation</th>\n",
       "      <td>occupation</td>\n",
       "      <td>0.0</td>\n",
       "      <td>0.0000</td>\n",
       "      <td>0.0</td>\n",
       "      <td>0.0</td>\n",
       "    </tr>\n",
       "    <tr>\n",
       "      <th>living_area</th>\n",
       "      <td>living_area</td>\n",
       "      <td>0.0</td>\n",
       "      <td>0.0000</td>\n",
       "      <td>0.0</td>\n",
       "      <td>0.0</td>\n",
       "    </tr>\n",
       "    <tr>\n",
       "      <th>sports_engagement</th>\n",
       "      <td>sports_engagement</td>\n",
       "      <td>0.0</td>\n",
       "      <td>0.0000</td>\n",
       "      <td>0.0</td>\n",
       "      <td>0.0</td>\n",
       "    </tr>\n",
       "    <tr>\n",
       "      <th>owns_a_pet</th>\n",
       "      <td>owns_a_pet</td>\n",
       "      <td>0.0</td>\n",
       "      <td>0.0000</td>\n",
       "      <td>0.0</td>\n",
       "      <td>0.0</td>\n",
       "    </tr>\n",
       "    <tr>\n",
       "      <th>has_health_insurance</th>\n",
       "      <td>has_health_insurance</td>\n",
       "      <td>0.0</td>\n",
       "      <td>0.0000</td>\n",
       "      <td>0.0</td>\n",
       "      <td>0.0</td>\n",
       "    </tr>\n",
       "    <tr>\n",
       "      <th>has_cancer</th>\n",
       "      <td>has_cancer</td>\n",
       "      <td>0.0</td>\n",
       "      <td>0.0000</td>\n",
       "      <td>0.0</td>\n",
       "      <td>0.0</td>\n",
       "    </tr>\n",
       "    <tr>\n",
       "      <th>smokes</th>\n",
       "      <td>smokes</td>\n",
       "      <td>0.0</td>\n",
       "      <td>0.0000</td>\n",
       "      <td>0.0</td>\n",
       "      <td>0.0</td>\n",
       "    </tr>\n",
       "    <tr>\n",
       "      <th>has_alzheimers</th>\n",
       "      <td>has_alzheimers</td>\n",
       "      <td>0.0</td>\n",
       "      <td>0.0000</td>\n",
       "      <td>0.0</td>\n",
       "      <td>0.0</td>\n",
       "    </tr>\n",
       "    <tr>\n",
       "      <th>daily_household_water_usage</th>\n",
       "      <td>daily_household_water_usage</td>\n",
       "      <td>0.0</td>\n",
       "      <td>0.0000</td>\n",
       "      <td>0.0</td>\n",
       "      <td>0.0</td>\n",
       "    </tr>\n",
       "    <tr>\n",
       "      <th>diet_type</th>\n",
       "      <td>diet_type</td>\n",
       "      <td>0.0</td>\n",
       "      <td>0.0000</td>\n",
       "      <td>0.0</td>\n",
       "      <td>0.0</td>\n",
       "    </tr>\n",
       "    <tr>\n",
       "      <th>fast_food_meals_per_month</th>\n",
       "      <td>fast_food_meals_per_month</td>\n",
       "      <td>0.0</td>\n",
       "      <td>14.0750</td>\n",
       "      <td>0.0</td>\n",
       "      <td>0.0</td>\n",
       "    </tr>\n",
       "    <tr>\n",
       "      <th>infected</th>\n",
       "      <td>infected</td>\n",
       "      <td>0.0</td>\n",
       "      <td>65.1375</td>\n",
       "      <td>0.0</td>\n",
       "      <td>0.0</td>\n",
       "    </tr>\n",
       "  </tbody>\n",
       "</table>\n",
       "</div>"
      ],
      "text/plain": [
       "                                                 columns  percent_null  \\\n",
       "gender                                            gender           0.0   \n",
       "weight                                            weight           0.0   \n",
       "height                                            height           0.0   \n",
       "race                                                race           0.0   \n",
       "blood_type                                    blood_type           0.0   \n",
       "family_members_count                family_members_count           0.0   \n",
       "avg_sleep_hours                          avg_sleep_hours           0.0   \n",
       "occupation                                    occupation           0.0   \n",
       "living_area                                  living_area           0.0   \n",
       "sports_engagement                      sports_engagement           0.0   \n",
       "owns_a_pet                                    owns_a_pet           0.0   \n",
       "has_health_insurance                has_health_insurance           0.0   \n",
       "has_cancer                                    has_cancer           0.0   \n",
       "smokes                                            smokes           0.0   \n",
       "has_alzheimers                            has_alzheimers           0.0   \n",
       "daily_household_water_usage  daily_household_water_usage           0.0   \n",
       "diet_type                                      diet_type           0.0   \n",
       "fast_food_meals_per_month      fast_food_meals_per_month           0.0   \n",
       "infected                                        infected           0.0   \n",
       "\n",
       "                             percent_zero  percent_none  percent_qmark  \n",
       "gender                             0.0000           0.0            0.0  \n",
       "weight                             0.0000           0.0            0.0  \n",
       "height                             0.0000           0.0            0.0  \n",
       "race                               0.0000           0.0            0.0  \n",
       "blood_type                         0.0000           0.0            0.0  \n",
       "family_members_count               0.0000           0.0            0.0  \n",
       "avg_sleep_hours                    0.0000           0.0            0.0  \n",
       "occupation                         0.0000           0.0            0.0  \n",
       "living_area                        0.0000           0.0            0.0  \n",
       "sports_engagement                  0.0000           0.0            0.0  \n",
       "owns_a_pet                         0.0000           0.0            0.0  \n",
       "has_health_insurance               0.0000           0.0            0.0  \n",
       "has_cancer                         0.0000           0.0            0.0  \n",
       "smokes                             0.0000           0.0            0.0  \n",
       "has_alzheimers                     0.0000           0.0            0.0  \n",
       "daily_household_water_usage        0.0000           0.0            0.0  \n",
       "diet_type                          0.0000           0.0            0.0  \n",
       "fast_food_meals_per_month         14.0750           0.0            0.0  \n",
       "infected                          65.1375           0.0            0.0  "
      ]
     },
     "execution_count": 766,
     "metadata": {},
     "output_type": "execute_result"
    }
   ],
   "source": [
    "check_null_values(df)"
   ]
  },
  {
   "cell_type": "code",
   "execution_count": 767,
   "metadata": {},
   "outputs": [],
   "source": [
    "keep_columns = ['has_cancer', 'has_health_insurance', 'smokes', 'has_alzheimers', 'daily_household_water_usage',\\\n",
    "               'diet_type', 'fast_food_meals_per_month', 'infected']\n",
    "df = df[keep_columns]"
   ]
  },
  {
   "cell_type": "code",
   "execution_count": 769,
   "metadata": {},
   "outputs": [
    {
     "name": "stdout",
     "output_type": "stream",
     "text": [
      "Number of numerical fields: 1\n"
     ]
    },
    {
     "data": {
      "text/plain": [
       "['daily_household_water_usage']"
      ]
     },
     "execution_count": 769,
     "metadata": {},
     "output_type": "execute_result"
    }
   ],
   "source": [
    "num_cols = df._get_numeric_data().columns\n",
    "num_cols = [x for x in num_cols if x != 'infected' and x != 'fast_food_meals_per_month']\n",
    "print(\"Number of numerical fields:\", len(num_cols))\n",
    "num_cols"
   ]
  },
  {
   "cell_type": "code",
   "execution_count": 770,
   "metadata": {},
   "outputs": [
    {
     "name": "stdout",
     "output_type": "stream",
     "text": [
      "Number of categorical fields: 5\n"
     ]
    },
    {
     "data": {
      "text/plain": [
       "Index(['has_cancer', 'has_health_insurance', 'smokes', 'has_alzheimers',\n",
       "       'diet_type'],\n",
       "      dtype='object')"
      ]
     },
     "execution_count": 770,
     "metadata": {},
     "output_type": "execute_result"
    }
   ],
   "source": [
    "cat_cols = df.select_dtypes(include=['object']).columns\n",
    "print(\"Number of categorical fields:\", len(cat_cols))\n",
    "cat_cols"
   ]
  },
  {
   "cell_type": "code",
   "execution_count": 730,
   "metadata": {
    "scrolled": false
   },
   "outputs": [
    {
     "data": {
      "image/png": "[encoded data removed]",
      "text/plain": [
       "<Figure size 1080x2880 with 21 Axes>"
      ]
     },
     "metadata": {
      "needs_background": "light"
     },
     "output_type": "display_data"
    }
   ],
   "source": [
    "fig, axes = plt.subplots(7, 3, figsize=(15, 40))\n",
    "for row in range(7):\n",
    "    for col in range(3):\n",
    "        if row*3+col < len(cat_cols):\n",
    "            field_name = cat_cols[row*3+col]\n",
    "            chart = sns.countplot(x = field_name, hue='infected', data = df, ax = axes[row, col])\n",
    "            chart.set_xticklabels(chart.get_xticklabels(), rotation=45, horizontalalignment='right')"
   ]
  },
  {
   "cell_type": "code",
   "execution_count": 731,
   "metadata": {
    "scrolled": false
   },
   "outputs": [
    {
     "data": {
      "image/png": "[encoded data removed]",
      "text/plain": [
       "<Figure size 1080x720 with 8 Axes>"
      ]
     },
     "metadata": {
      "needs_background": "light"
     },
     "output_type": "display_data"
    }
   ],
   "source": [
    "fig, axes = plt.subplots(2, 4, figsize=(15, 10))\n",
    "for row in range(2):\n",
    "    for col in range(4):\n",
    "        if row*4+col < len(num_cols):\n",
    "            field_name = num_cols[row*4+col]\n",
    "            chart = sns.distplot(df[field_name], ax = axes[row, col])\n",
    "#             chart.set_xticklabels(chart.get_xticklabels(), rotation=45, horizontalalignment='right')"
   ]
  },
  {
   "cell_type": "code",
   "execution_count": 80,
   "metadata": {},
   "outputs": [
    {
     "data": {
      "text/plain": [
       "family_members_count         daily_household_water_usage    0.973117\n",
       "weight                       height                         0.849937\n",
       "year_of_birth                height                         0.691596\n",
       "                             weight                         0.669028\n",
       "height                       avg_sleep_hours                0.618517\n",
       "weight                       avg_sleep_hours                0.561936\n",
       "year_of_birth                avg_sleep_hours                0.442178\n",
       "family_members_count         infected                       0.080682\n",
       "fast_food_meals_per_month    infected                       0.080628\n",
       "daily_household_water_usage  infected                       0.072015\n",
       "weight                       infected                       0.052181\n",
       "height                       infected                       0.018808\n",
       "family_members_count         fast_food_meals_per_month      0.014061\n",
       "daily_household_water_usage  fast_food_meals_per_month      0.013008\n",
       "year_of_birth                infected                       0.010920\n",
       "avg_sleep_hours              infected                       0.006608\n",
       "                             fast_food_meals_per_month      0.005612\n",
       "                             daily_household_water_usage    0.005571\n",
       "height                       fast_food_meals_per_month      0.005435\n",
       "family_members_count         avg_sleep_hours                0.005282\n",
       "year_of_birth                daily_household_water_usage    0.003949\n",
       "                             family_members_count           0.003783\n",
       "weight                       fast_food_meals_per_month      0.003593\n",
       "height                       family_members_count           0.002172\n",
       "weight                       daily_household_water_usage    0.002113\n",
       "height                       daily_household_water_usage    0.002039\n",
       "weight                       family_members_count           0.001318\n",
       "year_of_birth                fast_food_meals_per_month      0.000087\n",
       "dtype: float64"
      ]
     },
     "execution_count": 80,
     "metadata": {},
     "output_type": "execute_result"
    }
   ],
   "source": [
    "corr_matrix = df.corr().abs()\n",
    "\n",
    "#the matrix is symmetric so we need to extract upper triangle matrix without diagonal (k = 1)\n",
    "(corr_matrix.where(np.triu(np.ones(corr_matrix.shape), k=1).astype(np.bool))\n",
    "                 .stack()\n",
    "                 .sort_values(ascending=False))"
   ]
  },
  {
   "cell_type": "code",
   "execution_count": 771,
   "metadata": {},
   "outputs": [
    {
     "data": {
      "text/html": [
       "<div>\n",
       "<style scoped>\n",
       "    .dataframe tbody tr th:only-of-type {\n",
       "        vertical-align: middle;\n",
       "    }\n",
       "\n",
       "    .dataframe tbody tr th {\n",
       "        vertical-align: top;\n",
       "    }\n",
       "\n",
       "    .dataframe thead th {\n",
       "        text-align: right;\n",
       "    }\n",
       "</style>\n",
       "<table border=\"1\" class=\"dataframe\">\n",
       "  <thead>\n",
       "    <tr style=\"text-align: right;\">\n",
       "      <th></th>\n",
       "      <th>has_cancer</th>\n",
       "      <th>has_health_insurance</th>\n",
       "      <th>smokes</th>\n",
       "      <th>has_alzheimers</th>\n",
       "      <th>daily_household_water_usage</th>\n",
       "      <th>diet_type</th>\n",
       "      <th>fast_food_meals_per_month</th>\n",
       "      <th>infected</th>\n",
       "    </tr>\n",
       "  </thead>\n",
       "  <tbody>\n",
       "    <tr>\n",
       "      <th>0</th>\n",
       "      <td>no</td>\n",
       "      <td>no</td>\n",
       "      <td>no</td>\n",
       "      <td>no</td>\n",
       "      <td>-0.294115</td>\n",
       "      <td>regular</td>\n",
       "      <td>2</td>\n",
       "      <td>0</td>\n",
       "    </tr>\n",
       "    <tr>\n",
       "      <th>1</th>\n",
       "      <td>no</td>\n",
       "      <td>no</td>\n",
       "      <td>no</td>\n",
       "      <td>no</td>\n",
       "      <td>0.169637</td>\n",
       "      <td>regular</td>\n",
       "      <td>0</td>\n",
       "      <td>0</td>\n",
       "    </tr>\n",
       "    <tr>\n",
       "      <th>2</th>\n",
       "      <td>no</td>\n",
       "      <td>no</td>\n",
       "      <td>no</td>\n",
       "      <td>yes</td>\n",
       "      <td>-1.324764</td>\n",
       "      <td>regular</td>\n",
       "      <td>16</td>\n",
       "      <td>0</td>\n",
       "    </tr>\n",
       "    <tr>\n",
       "      <th>3</th>\n",
       "      <td>no</td>\n",
       "      <td>yes</td>\n",
       "      <td>no</td>\n",
       "      <td>no</td>\n",
       "      <td>-0.223029</td>\n",
       "      <td>regular</td>\n",
       "      <td>1</td>\n",
       "      <td>1</td>\n",
       "    </tr>\n",
       "    <tr>\n",
       "      <th>4</th>\n",
       "      <td>no</td>\n",
       "      <td>yes</td>\n",
       "      <td>no</td>\n",
       "      <td>no</td>\n",
       "      <td>-1.329127</td>\n",
       "      <td>regular</td>\n",
       "      <td>12</td>\n",
       "      <td>0</td>\n",
       "    </tr>\n",
       "  </tbody>\n",
       "</table>\n",
       "</div>"
      ],
      "text/plain": [
       "  has_cancer has_health_insurance smokes has_alzheimers  \\\n",
       "0         no                   no     no             no   \n",
       "1         no                   no     no             no   \n",
       "2         no                   no     no            yes   \n",
       "3         no                  yes     no             no   \n",
       "4         no                  yes     no             no   \n",
       "\n",
       "   daily_household_water_usage diet_type  fast_food_meals_per_month  infected  \n",
       "0                    -0.294115   regular                          2         0  \n",
       "1                     0.169637   regular                          0         0  \n",
       "2                    -1.324764   regular                         16         0  \n",
       "3                    -0.223029   regular                          1         1  \n",
       "4                    -1.329127   regular                         12         0  "
      ]
     },
     "execution_count": 771,
     "metadata": {},
     "output_type": "execute_result"
    }
   ],
   "source": [
    "from sklearn.preprocessing import StandardScaler\n",
    "ss = StandardScaler()\n",
    "df[num_cols] =  ss.fit_transform(df[num_cols])\n",
    "df.head()"
   ]
  },
  {
   "cell_type": "code",
   "execution_count": 772,
   "metadata": {},
   "outputs": [
    {
     "name": "stdout",
     "output_type": "stream",
     "text": [
      "(8000, 7) (8000,)\n"
     ]
    }
   ],
   "source": [
    "X = df.drop(['infected'], 1)\n",
    "y = df.infected\n",
    "print(X.shape, y.shape)"
   ]
  },
  {
   "cell_type": "code",
   "execution_count": 773,
   "metadata": {},
   "outputs": [
    {
     "data": {
      "text/html": [
       "<div>\n",
       "<style scoped>\n",
       "    .dataframe tbody tr th:only-of-type {\n",
       "        vertical-align: middle;\n",
       "    }\n",
       "\n",
       "    .dataframe tbody tr th {\n",
       "        vertical-align: top;\n",
       "    }\n",
       "\n",
       "    .dataframe thead th {\n",
       "        text-align: right;\n",
       "    }\n",
       "</style>\n",
       "<table border=\"1\" class=\"dataframe\">\n",
       "  <thead>\n",
       "    <tr style=\"text-align: right;\">\n",
       "      <th></th>\n",
       "      <th>has_cancer</th>\n",
       "      <th>has_health_insurance</th>\n",
       "      <th>smokes</th>\n",
       "      <th>has_alzheimers</th>\n",
       "      <th>daily_household_water_usage</th>\n",
       "      <th>diet_type</th>\n",
       "      <th>fast_food_meals_per_month</th>\n",
       "      <th>has_cancer_mean</th>\n",
       "      <th>has_health_insurance_mean</th>\n",
       "      <th>smokes_mean</th>\n",
       "      <th>has_alzheimers_mean</th>\n",
       "      <th>diet_type_mean</th>\n",
       "    </tr>\n",
       "  </thead>\n",
       "  <tbody>\n",
       "    <tr>\n",
       "      <th>0</th>\n",
       "      <td>no</td>\n",
       "      <td>no</td>\n",
       "      <td>no</td>\n",
       "      <td>no</td>\n",
       "      <td>-0.294115</td>\n",
       "      <td>regular</td>\n",
       "      <td>2</td>\n",
       "      <td>0.3343</td>\n",
       "      <td>0.3343</td>\n",
       "      <td>0.3343</td>\n",
       "      <td>0.334300</td>\n",
       "      <td>0.3343</td>\n",
       "    </tr>\n",
       "    <tr>\n",
       "      <th>1</th>\n",
       "      <td>no</td>\n",
       "      <td>no</td>\n",
       "      <td>no</td>\n",
       "      <td>no</td>\n",
       "      <td>0.169637</td>\n",
       "      <td>regular</td>\n",
       "      <td>0</td>\n",
       "      <td>0.0000</td>\n",
       "      <td>0.0000</td>\n",
       "      <td>0.0000</td>\n",
       "      <td>0.000000</td>\n",
       "      <td>0.0000</td>\n",
       "    </tr>\n",
       "    <tr>\n",
       "      <th>2</th>\n",
       "      <td>no</td>\n",
       "      <td>no</td>\n",
       "      <td>no</td>\n",
       "      <td>yes</td>\n",
       "      <td>-1.324764</td>\n",
       "      <td>regular</td>\n",
       "      <td>16</td>\n",
       "      <td>0.0000</td>\n",
       "      <td>0.0000</td>\n",
       "      <td>0.0000</td>\n",
       "      <td>0.334300</td>\n",
       "      <td>0.0000</td>\n",
       "    </tr>\n",
       "    <tr>\n",
       "      <th>3</th>\n",
       "      <td>no</td>\n",
       "      <td>yes</td>\n",
       "      <td>no</td>\n",
       "      <td>no</td>\n",
       "      <td>-0.223029</td>\n",
       "      <td>regular</td>\n",
       "      <td>1</td>\n",
       "      <td>0.0000</td>\n",
       "      <td>0.3343</td>\n",
       "      <td>0.0000</td>\n",
       "      <td>0.000000</td>\n",
       "      <td>0.0000</td>\n",
       "    </tr>\n",
       "    <tr>\n",
       "      <th>4</th>\n",
       "      <td>no</td>\n",
       "      <td>yes</td>\n",
       "      <td>no</td>\n",
       "      <td>no</td>\n",
       "      <td>-1.329127</td>\n",
       "      <td>regular</td>\n",
       "      <td>12</td>\n",
       "      <td>0.2500</td>\n",
       "      <td>1.0000</td>\n",
       "      <td>0.2500</td>\n",
       "      <td>0.333333</td>\n",
       "      <td>0.2500</td>\n",
       "    </tr>\n",
       "  </tbody>\n",
       "</table>\n",
       "</div>"
      ],
      "text/plain": [
       "  has_cancer has_health_insurance smokes has_alzheimers  \\\n",
       "0         no                   no     no             no   \n",
       "1         no                   no     no             no   \n",
       "2         no                   no     no            yes   \n",
       "3         no                  yes     no             no   \n",
       "4         no                  yes     no             no   \n",
       "\n",
       "   daily_household_water_usage diet_type  fast_food_meals_per_month  \\\n",
       "0                    -0.294115   regular                          2   \n",
       "1                     0.169637   regular                          0   \n",
       "2                    -1.324764   regular                         16   \n",
       "3                    -0.223029   regular                          1   \n",
       "4                    -1.329127   regular                         12   \n",
       "\n",
       "   has_cancer_mean  has_health_insurance_mean  smokes_mean  \\\n",
       "0           0.3343                     0.3343       0.3343   \n",
       "1           0.0000                     0.0000       0.0000   \n",
       "2           0.0000                     0.0000       0.0000   \n",
       "3           0.0000                     0.3343       0.0000   \n",
       "4           0.2500                     1.0000       0.2500   \n",
       "\n",
       "   has_alzheimers_mean  diet_type_mean  \n",
       "0             0.334300          0.3343  \n",
       "1             0.000000          0.0000  \n",
       "2             0.334300          0.0000  \n",
       "3             0.000000          0.0000  \n",
       "4             0.333333          0.2500  "
      ]
     },
     "execution_count": 773,
     "metadata": {},
     "output_type": "execute_result"
    }
   ],
   "source": [
    "\n",
    "def expanding_mean(df_test, col):\n",
    "    cumsum   = df.groupby(col)['infected'].cumsum() - df['infected']\n",
    "    cumcnt = df_test.groupby(col).cumcount()\n",
    "    df_test[col + '_mean'] = cumsum/cumcnt\n",
    "    df_test[col + '_mean'] = df_test[col + '_mean'].replace([np.inf, -np.inf], np.nan)\n",
    "    df_test[col + '_mean'].fillna(0.3343, inplace=True)\n",
    "    return df_test\n",
    "\n",
    "for col in cat_cols:\n",
    "    X = expanding_mean(X, col)\n",
    "\n",
    "X.head()"
   ]
  },
  {
   "cell_type": "code",
   "execution_count": 774,
   "metadata": {},
   "outputs": [],
   "source": [
    "X = pd.get_dummies(X, columns = cat_cols, drop_first=True)"
   ]
  },
  {
   "cell_type": "code",
   "execution_count": 775,
   "metadata": {},
   "outputs": [
    {
     "name": "stdout",
     "output_type": "stream",
     "text": [
      "X_train.shape = (6400, 16)\n",
      "y_train.shape = (6400,)\n",
      "X_val.shape = (1600, 16)\n",
      "y_val.shape = (1600,)\n"
     ]
    }
   ],
   "source": [
    "from sklearn.model_selection import train_test_split\n",
    "X_train, X_val, y_train, y_val = train_test_split(X, y, test_size=0.2, stratify = y)\n",
    "print(f'X_train.shape = {X_train.shape}')\n",
    "print(f'y_train.shape = {y_train.shape}')\n",
    "print(f'X_val.shape = {X_val.shape}')\n",
    "print(f'y_val.shape = {y_val.shape}')"
   ]
  },
  {
   "cell_type": "code",
   "execution_count": 776,
   "metadata": {},
   "outputs": [
    {
     "data": {
      "text/html": [
       "<div>\n",
       "<style scoped>\n",
       "    .dataframe tbody tr th:only-of-type {\n",
       "        vertical-align: middle;\n",
       "    }\n",
       "\n",
       "    .dataframe tbody tr th {\n",
       "        vertical-align: top;\n",
       "    }\n",
       "\n",
       "    .dataframe thead th {\n",
       "        text-align: right;\n",
       "    }\n",
       "</style>\n",
       "<table border=\"1\" class=\"dataframe\">\n",
       "  <thead>\n",
       "    <tr style=\"text-align: right;\">\n",
       "      <th></th>\n",
       "      <th>daily_household_water_usage</th>\n",
       "      <th>fast_food_meals_per_month</th>\n",
       "      <th>has_cancer_mean</th>\n",
       "      <th>has_health_insurance_mean</th>\n",
       "      <th>smokes_mean</th>\n",
       "      <th>has_alzheimers_mean</th>\n",
       "      <th>diet_type_mean</th>\n",
       "      <th>has_cancer_yes</th>\n",
       "      <th>has_health_insurance_yes</th>\n",
       "      <th>smokes_yes</th>\n",
       "      <th>has_alzheimers_yes</th>\n",
       "      <th>diet_type_low-carb</th>\n",
       "      <th>diet_type_paleo</th>\n",
       "      <th>diet_type_regular</th>\n",
       "      <th>diet_type_vegan</th>\n",
       "      <th>diet_type_vegetarian</th>\n",
       "    </tr>\n",
       "  </thead>\n",
       "  <tbody>\n",
       "    <tr>\n",
       "      <th>7514</th>\n",
       "      <td>1.755578</td>\n",
       "      <td>28</td>\n",
       "      <td>0.348223</td>\n",
       "      <td>0.471732</td>\n",
       "      <td>0.354278</td>\n",
       "      <td>0.353306</td>\n",
       "      <td>0.337249</td>\n",
       "      <td>0</td>\n",
       "      <td>0</td>\n",
       "      <td>0</td>\n",
       "      <td>0</td>\n",
       "      <td>0</td>\n",
       "      <td>0</td>\n",
       "      <td>1</td>\n",
       "      <td>0</td>\n",
       "      <td>0</td>\n",
       "    </tr>\n",
       "    <tr>\n",
       "      <th>6679</th>\n",
       "      <td>-0.837678</td>\n",
       "      <td>2</td>\n",
       "      <td>0.345364</td>\n",
       "      <td>0.278622</td>\n",
       "      <td>0.351601</td>\n",
       "      <td>0.350494</td>\n",
       "      <td>0.335282</td>\n",
       "      <td>0</td>\n",
       "      <td>1</td>\n",
       "      <td>0</td>\n",
       "      <td>0</td>\n",
       "      <td>0</td>\n",
       "      <td>0</td>\n",
       "      <td>1</td>\n",
       "      <td>0</td>\n",
       "      <td>0</td>\n",
       "    </tr>\n",
       "    <tr>\n",
       "      <th>2601</th>\n",
       "      <td>2.338306</td>\n",
       "      <td>3</td>\n",
       "      <td>0.358696</td>\n",
       "      <td>0.288971</td>\n",
       "      <td>0.340483</td>\n",
       "      <td>0.362466</td>\n",
       "      <td>0.345006</td>\n",
       "      <td>0</td>\n",
       "      <td>1</td>\n",
       "      <td>1</td>\n",
       "      <td>0</td>\n",
       "      <td>0</td>\n",
       "      <td>0</td>\n",
       "      <td>1</td>\n",
       "      <td>0</td>\n",
       "      <td>0</td>\n",
       "    </tr>\n",
       "    <tr>\n",
       "      <th>7726</th>\n",
       "      <td>-1.075586</td>\n",
       "      <td>17</td>\n",
       "      <td>0.347162</td>\n",
       "      <td>0.278143</td>\n",
       "      <td>0.331137</td>\n",
       "      <td>0.352100</td>\n",
       "      <td>0.335360</td>\n",
       "      <td>0</td>\n",
       "      <td>1</td>\n",
       "      <td>1</td>\n",
       "      <td>0</td>\n",
       "      <td>0</td>\n",
       "      <td>0</td>\n",
       "      <td>1</td>\n",
       "      <td>0</td>\n",
       "      <td>0</td>\n",
       "    </tr>\n",
       "    <tr>\n",
       "      <th>2557</th>\n",
       "      <td>-0.247902</td>\n",
       "      <td>0</td>\n",
       "      <td>0.358215</td>\n",
       "      <td>0.289474</td>\n",
       "      <td>0.365753</td>\n",
       "      <td>0.361905</td>\n",
       "      <td>0.344919</td>\n",
       "      <td>0</td>\n",
       "      <td>1</td>\n",
       "      <td>0</td>\n",
       "      <td>0</td>\n",
       "      <td>0</td>\n",
       "      <td>0</td>\n",
       "      <td>1</td>\n",
       "      <td>0</td>\n",
       "      <td>0</td>\n",
       "    </tr>\n",
       "  </tbody>\n",
       "</table>\n",
       "</div>"
      ],
      "text/plain": [
       "      daily_household_water_usage  fast_food_meals_per_month  has_cancer_mean  \\\n",
       "7514                     1.755578                         28         0.348223   \n",
       "6679                    -0.837678                          2         0.345364   \n",
       "2601                     2.338306                          3         0.358696   \n",
       "7726                    -1.075586                         17         0.347162   \n",
       "2557                    -0.247902                          0         0.358215   \n",
       "\n",
       "      has_health_insurance_mean  smokes_mean  has_alzheimers_mean  \\\n",
       "7514                   0.471732     0.354278             0.353306   \n",
       "6679                   0.278622     0.351601             0.350494   \n",
       "2601                   0.288971     0.340483             0.362466   \n",
       "7726                   0.278143     0.331137             0.352100   \n",
       "2557                   0.289474     0.365753             0.361905   \n",
       "\n",
       "      diet_type_mean  has_cancer_yes  has_health_insurance_yes  smokes_yes  \\\n",
       "7514        0.337249               0                         0           0   \n",
       "6679        0.335282               0                         1           0   \n",
       "2601        0.345006               0                         1           1   \n",
       "7726        0.335360               0                         1           1   \n",
       "2557        0.344919               0                         1           0   \n",
       "\n",
       "      has_alzheimers_yes  diet_type_low-carb  diet_type_paleo  \\\n",
       "7514                   0                   0                0   \n",
       "6679                   0                   0                0   \n",
       "2601                   0                   0                0   \n",
       "7726                   0                   0                0   \n",
       "2557                   0                   0                0   \n",
       "\n",
       "      diet_type_regular  diet_type_vegan  diet_type_vegetarian  \n",
       "7514                  1                0                     0  \n",
       "6679                  1                0                     0  \n",
       "2601                  1                0                     0  \n",
       "7726                  1                0                     0  \n",
       "2557                  1                0                     0  "
      ]
     },
     "execution_count": 776,
     "metadata": {},
     "output_type": "execute_result"
    }
   ],
   "source": [
    "X_train.head()"
   ]
  },
  {
   "cell_type": "code",
   "execution_count": 777,
   "metadata": {},
   "outputs": [
    {
     "data": {
      "text/html": [
       "<div>\n",
       "<style scoped>\n",
       "    .dataframe tbody tr th:only-of-type {\n",
       "        vertical-align: middle;\n",
       "    }\n",
       "\n",
       "    .dataframe tbody tr th {\n",
       "        vertical-align: top;\n",
       "    }\n",
       "\n",
       "    .dataframe thead th {\n",
       "        text-align: right;\n",
       "    }\n",
       "</style>\n",
       "<table border=\"1\" class=\"dataframe\">\n",
       "  <thead>\n",
       "    <tr style=\"text-align: right;\">\n",
       "      <th></th>\n",
       "      <th>daily_household_water_usage</th>\n",
       "      <th>fast_food_meals_per_month</th>\n",
       "      <th>has_cancer_mean</th>\n",
       "      <th>has_health_insurance_mean</th>\n",
       "      <th>smokes_mean</th>\n",
       "      <th>has_alzheimers_mean</th>\n",
       "      <th>diet_type_mean</th>\n",
       "      <th>has_cancer_yes</th>\n",
       "      <th>has_health_insurance_yes</th>\n",
       "      <th>smokes_yes</th>\n",
       "      <th>has_alzheimers_yes</th>\n",
       "      <th>diet_type_low-carb</th>\n",
       "      <th>diet_type_paleo</th>\n",
       "      <th>diet_type_regular</th>\n",
       "      <th>diet_type_vegan</th>\n",
       "      <th>diet_type_vegetarian</th>\n",
       "    </tr>\n",
       "  </thead>\n",
       "  <tbody>\n",
       "    <tr>\n",
       "      <th>3419</th>\n",
       "      <td>-0.086488</td>\n",
       "      <td>9</td>\n",
       "      <td>0.353410</td>\n",
       "      <td>0.287175</td>\n",
       "      <td>0.349328</td>\n",
       "      <td>0.357779</td>\n",
       "      <td>0.341134</td>\n",
       "      <td>0</td>\n",
       "      <td>1</td>\n",
       "      <td>1</td>\n",
       "      <td>0</td>\n",
       "      <td>0</td>\n",
       "      <td>0</td>\n",
       "      <td>1</td>\n",
       "      <td>0</td>\n",
       "      <td>0</td>\n",
       "    </tr>\n",
       "    <tr>\n",
       "      <th>1541</th>\n",
       "      <td>0.427355</td>\n",
       "      <td>0</td>\n",
       "      <td>0.354944</td>\n",
       "      <td>0.488971</td>\n",
       "      <td>0.358108</td>\n",
       "      <td>0.356579</td>\n",
       "      <td>0.339623</td>\n",
       "      <td>0</td>\n",
       "      <td>0</td>\n",
       "      <td>0</td>\n",
       "      <td>0</td>\n",
       "      <td>0</td>\n",
       "      <td>0</td>\n",
       "      <td>1</td>\n",
       "      <td>0</td>\n",
       "      <td>0</td>\n",
       "    </tr>\n",
       "    <tr>\n",
       "      <th>5398</th>\n",
       "      <td>-0.595193</td>\n",
       "      <td>8</td>\n",
       "      <td>0.346168</td>\n",
       "      <td>0.470588</td>\n",
       "      <td>0.351631</td>\n",
       "      <td>0.351458</td>\n",
       "      <td>0.335540</td>\n",
       "      <td>0</td>\n",
       "      <td>0</td>\n",
       "      <td>0</td>\n",
       "      <td>0</td>\n",
       "      <td>0</td>\n",
       "      <td>0</td>\n",
       "      <td>1</td>\n",
       "      <td>0</td>\n",
       "      <td>0</td>\n",
       "    </tr>\n",
       "    <tr>\n",
       "      <th>3160</th>\n",
       "      <td>-1.343718</td>\n",
       "      <td>1</td>\n",
       "      <td>0.355158</td>\n",
       "      <td>0.286432</td>\n",
       "      <td>0.360327</td>\n",
       "      <td>0.359230</td>\n",
       "      <td>0.342928</td>\n",
       "      <td>0</td>\n",
       "      <td>1</td>\n",
       "      <td>0</td>\n",
       "      <td>0</td>\n",
       "      <td>0</td>\n",
       "      <td>0</td>\n",
       "      <td>1</td>\n",
       "      <td>0</td>\n",
       "      <td>0</td>\n",
       "    </tr>\n",
       "    <tr>\n",
       "      <th>820</th>\n",
       "      <td>-0.483171</td>\n",
       "      <td>10</td>\n",
       "      <td>0.348522</td>\n",
       "      <td>0.274102</td>\n",
       "      <td>0.356835</td>\n",
       "      <td>0.352217</td>\n",
       "      <td>0.337398</td>\n",
       "      <td>0</td>\n",
       "      <td>1</td>\n",
       "      <td>0</td>\n",
       "      <td>0</td>\n",
       "      <td>0</td>\n",
       "      <td>0</td>\n",
       "      <td>1</td>\n",
       "      <td>0</td>\n",
       "      <td>0</td>\n",
       "    </tr>\n",
       "  </tbody>\n",
       "</table>\n",
       "</div>"
      ],
      "text/plain": [
       "      daily_household_water_usage  fast_food_meals_per_month  has_cancer_mean  \\\n",
       "3419                    -0.086488                          9         0.353410   \n",
       "1541                     0.427355                          0         0.354944   \n",
       "5398                    -0.595193                          8         0.346168   \n",
       "3160                    -1.343718                          1         0.355158   \n",
       "820                     -0.483171                         10         0.348522   \n",
       "\n",
       "      has_health_insurance_mean  smokes_mean  has_alzheimers_mean  \\\n",
       "3419                   0.287175     0.349328             0.357779   \n",
       "1541                   0.488971     0.358108             0.356579   \n",
       "5398                   0.470588     0.351631             0.351458   \n",
       "3160                   0.286432     0.360327             0.359230   \n",
       "820                    0.274102     0.356835             0.352217   \n",
       "\n",
       "      diet_type_mean  has_cancer_yes  has_health_insurance_yes  smokes_yes  \\\n",
       "3419        0.341134               0                         1           1   \n",
       "1541        0.339623               0                         0           0   \n",
       "5398        0.335540               0                         0           0   \n",
       "3160        0.342928               0                         1           0   \n",
       "820         0.337398               0                         1           0   \n",
       "\n",
       "      has_alzheimers_yes  diet_type_low-carb  diet_type_paleo  \\\n",
       "3419                   0                   0                0   \n",
       "1541                   0                   0                0   \n",
       "5398                   0                   0                0   \n",
       "3160                   0                   0                0   \n",
       "820                    0                   0                0   \n",
       "\n",
       "      diet_type_regular  diet_type_vegan  diet_type_vegetarian  \n",
       "3419                  1                0                     0  \n",
       "1541                  1                0                     0  \n",
       "5398                  1                0                     0  \n",
       "3160                  1                0                     0  \n",
       "820                   1                0                     0  "
      ]
     },
     "execution_count": 777,
     "metadata": {},
     "output_type": "execute_result"
    }
   ],
   "source": [
    "X_val.head()"
   ]
  },
  {
   "cell_type": "code",
   "execution_count": 778,
   "metadata": {},
   "outputs": [],
   "source": [
    "from sklearn.ensemble import RandomForestClassifier\n",
    "from sklearn.metrics import accuracy_score"
   ]
  },
  {
   "cell_type": "code",
   "execution_count": 779,
   "metadata": {},
   "outputs": [
    {
     "data": {
      "text/plain": [
       "RandomForestClassifier(bootstrap=True, ccp_alpha=0.0, class_weight=None,\n",
       "                       criterion='gini', max_depth=4, max_features='auto',\n",
       "                       max_leaf_nodes=None, max_samples=None,\n",
       "                       min_impurity_decrease=0.0, min_impurity_split=None,\n",
       "                       min_samples_leaf=1, min_samples_split=2,\n",
       "                       min_weight_fraction_leaf=0.0, n_estimators=500,\n",
       "                       n_jobs=-1, oob_score=False, random_state=None, verbose=0,\n",
       "                       warm_start=False)"
      ]
     },
     "execution_count": 779,
     "metadata": {},
     "output_type": "execute_result"
    }
   ],
   "source": [
    "rf = RandomForestClassifier(n_estimators=500, max_depth=4, n_jobs=-1)\n",
    "rf.fit(X_train, y_train)"
   ]
  },
  {
   "cell_type": "code",
   "execution_count": 780,
   "metadata": {},
   "outputs": [],
   "source": [
    "predictions = []\n",
    "for tree in rf.estimators_:\n",
    "    predictions.append(tree.predict_proba(X_val)[None, :])"
   ]
  },
  {
   "cell_type": "code",
   "execution_count": 781,
   "metadata": {},
   "outputs": [],
   "source": [
    "predictions = np.vstack(predictions)"
   ]
  },
  {
   "cell_type": "code",
   "execution_count": 782,
   "metadata": {},
   "outputs": [],
   "source": [
    "cum_mean = np.cumsum(predictions, axis=0)/np.arange(1, predictions.shape[0] + 1)[:, None, None]"
   ]
  },
  {
   "cell_type": "code",
   "execution_count": 783,
   "metadata": {},
   "outputs": [],
   "source": [
    "scores = []\n",
    "for pred in cum_mean:\n",
    "    scores.append(accuracy_score(y_val, np.argmax(pred, axis=1)))"
   ]
  },
  {
   "cell_type": "code",
   "execution_count": 784,
   "metadata": {},
   "outputs": [
    {
     "data": {
      "image/png": "[encoded data removed]",
      "text/plain": [
       "<Figure size 720x432 with 1 Axes>"
      ]
     },
     "metadata": {
      "needs_background": "light"
     },
     "output_type": "display_data"
    }
   ],
   "source": [
    "plt.figure(figsize=(10, 6))\n",
    "plt.plot(scores, linewidth=3)\n",
    "plt.xlabel('num_trees')\n",
    "plt.ylabel('accuracy');"
   ]
  },
  {
   "cell_type": "code",
   "execution_count": 665,
   "metadata": {},
   "outputs": [
    {
     "ename": "KeyboardInterrupt",
     "evalue": "",
     "output_type": "error",
     "traceback": [
      "\u001b[1;31m---------------------------------------------------------------------------\u001b[0m",
      "\u001b[1;31mKeyboardInterrupt\u001b[0m                         Traceback (most recent call last)",
      "\u001b[1;32m<ipython-input-665-3a715c236b9a>\u001b[0m in \u001b[0;36m<module>\u001b[1;34m\u001b[0m\n\u001b[0;32m      4\u001b[0m \u001b[0mmodel\u001b[0m \u001b[1;33m=\u001b[0m \u001b[0mXGBClassifier\u001b[0m\u001b[1;33m(\u001b[0m\u001b[1;33m)\u001b[0m\u001b[1;33m\u001b[0m\u001b[1;33m\u001b[0m\u001b[0m\n\u001b[0;32m      5\u001b[0m \u001b[0mcv\u001b[0m \u001b[1;33m=\u001b[0m \u001b[0mRepeatedStratifiedKFold\u001b[0m\u001b[1;33m(\u001b[0m\u001b[0mn_splits\u001b[0m\u001b[1;33m=\u001b[0m\u001b[1;36m5\u001b[0m\u001b[1;33m,\u001b[0m \u001b[0mn_repeats\u001b[0m\u001b[1;33m=\u001b[0m\u001b[1;36m3\u001b[0m\u001b[1;33m,\u001b[0m \u001b[0mrandom_state\u001b[0m\u001b[1;33m=\u001b[0m\u001b[1;36m1\u001b[0m\u001b[1;33m)\u001b[0m\u001b[1;33m\u001b[0m\u001b[1;33m\u001b[0m\u001b[0m\n\u001b[1;32m----> 6\u001b[1;33m \u001b[0mn_scores\u001b[0m \u001b[1;33m=\u001b[0m \u001b[0mcross_val_score\u001b[0m\u001b[1;33m(\u001b[0m\u001b[0mmodel\u001b[0m\u001b[1;33m,\u001b[0m \u001b[0mX_train\u001b[0m\u001b[1;33m,\u001b[0m \u001b[0my_train\u001b[0m\u001b[1;33m,\u001b[0m \u001b[0mscoring\u001b[0m\u001b[1;33m=\u001b[0m\u001b[1;34m'accuracy'\u001b[0m\u001b[1;33m,\u001b[0m \u001b[0mcv\u001b[0m\u001b[1;33m=\u001b[0m\u001b[0mcv\u001b[0m\u001b[1;33m,\u001b[0m \u001b[0mn_jobs\u001b[0m\u001b[1;33m=\u001b[0m\u001b[1;36m1\u001b[0m\u001b[1;33m,\u001b[0m \u001b[0merror_score\u001b[0m\u001b[1;33m=\u001b[0m\u001b[1;34m'raise'\u001b[0m\u001b[1;33m)\u001b[0m\u001b[1;33m\u001b[0m\u001b[1;33m\u001b[0m\u001b[0m\n\u001b[0m\u001b[0;32m      7\u001b[0m \u001b[0mprint\u001b[0m\u001b[1;33m(\u001b[0m\u001b[1;34m'Accuracy: %.3f (%.3f)'\u001b[0m \u001b[1;33m%\u001b[0m \u001b[1;33m(\u001b[0m\u001b[0mnp\u001b[0m\u001b[1;33m.\u001b[0m\u001b[0mmean\u001b[0m\u001b[1;33m(\u001b[0m\u001b[0mn_scores\u001b[0m\u001b[1;33m)\u001b[0m\u001b[1;33m,\u001b[0m \u001b[0mnp\u001b[0m\u001b[1;33m.\u001b[0m\u001b[0mstd\u001b[0m\u001b[1;33m(\u001b[0m\u001b[0mn_scores\u001b[0m\u001b[1;33m)\u001b[0m\u001b[1;33m)\u001b[0m\u001b[1;33m)\u001b[0m\u001b[1;33m\u001b[0m\u001b[1;33m\u001b[0m\u001b[0m\n",
      "\u001b[1;32m~\\anaconda3\\lib\\site-packages\\sklearn\\model_selection\\_validation.py\u001b[0m in \u001b[0;36mcross_val_score\u001b[1;34m(estimator, X, y, groups, scoring, cv, n_jobs, verbose, fit_params, pre_dispatch, error_score)\u001b[0m\n\u001b[0;32m    388\u001b[0m                                 \u001b[0mfit_params\u001b[0m\u001b[1;33m=\u001b[0m\u001b[0mfit_params\u001b[0m\u001b[1;33m,\u001b[0m\u001b[1;33m\u001b[0m\u001b[1;33m\u001b[0m\u001b[0m\n\u001b[0;32m    389\u001b[0m                                 \u001b[0mpre_dispatch\u001b[0m\u001b[1;33m=\u001b[0m\u001b[0mpre_dispatch\u001b[0m\u001b[1;33m,\u001b[0m\u001b[1;33m\u001b[0m\u001b[1;33m\u001b[0m\u001b[0m\n\u001b[1;32m--> 390\u001b[1;33m                                 error_score=error_score)\n\u001b[0m\u001b[0;32m    391\u001b[0m     \u001b[1;32mreturn\u001b[0m \u001b[0mcv_results\u001b[0m\u001b[1;33m[\u001b[0m\u001b[1;34m'test_score'\u001b[0m\u001b[1;33m]\u001b[0m\u001b[1;33m\u001b[0m\u001b[1;33m\u001b[0m\u001b[0m\n\u001b[0;32m    392\u001b[0m \u001b[1;33m\u001b[0m\u001b[0m\n",
      "\u001b[1;32m~\\anaconda3\\lib\\site-packages\\sklearn\\model_selection\\_validation.py\u001b[0m in \u001b[0;36mcross_validate\u001b[1;34m(estimator, X, y, groups, scoring, cv, n_jobs, verbose, fit_params, pre_dispatch, return_train_score, return_estimator, error_score)\u001b[0m\n\u001b[0;32m    234\u001b[0m             \u001b[0mreturn_times\u001b[0m\u001b[1;33m=\u001b[0m\u001b[1;32mTrue\u001b[0m\u001b[1;33m,\u001b[0m \u001b[0mreturn_estimator\u001b[0m\u001b[1;33m=\u001b[0m\u001b[0mreturn_estimator\u001b[0m\u001b[1;33m,\u001b[0m\u001b[1;33m\u001b[0m\u001b[1;33m\u001b[0m\u001b[0m\n\u001b[0;32m    235\u001b[0m             error_score=error_score)\n\u001b[1;32m--> 236\u001b[1;33m         for train, test in cv.split(X, y, groups))\n\u001b[0m\u001b[0;32m    237\u001b[0m \u001b[1;33m\u001b[0m\u001b[0m\n\u001b[0;32m    238\u001b[0m     \u001b[0mzipped_scores\u001b[0m \u001b[1;33m=\u001b[0m \u001b[0mlist\u001b[0m\u001b[1;33m(\u001b[0m\u001b[0mzip\u001b[0m\u001b[1;33m(\u001b[0m\u001b[1;33m*\u001b[0m\u001b[0mscores\u001b[0m\u001b[1;33m)\u001b[0m\u001b[1;33m)\u001b[0m\u001b[1;33m\u001b[0m\u001b[1;33m\u001b[0m\u001b[0m\n",
      "\u001b[1;32m~\\anaconda3\\lib\\site-packages\\joblib\\parallel.py\u001b[0m in \u001b[0;36m__call__\u001b[1;34m(self, iterable)\u001b[0m\n\u001b[0;32m   1002\u001b[0m             \u001b[1;31m# remaining jobs.\u001b[0m\u001b[1;33m\u001b[0m\u001b[1;33m\u001b[0m\u001b[1;33m\u001b[0m\u001b[0m\n\u001b[0;32m   1003\u001b[0m             \u001b[0mself\u001b[0m\u001b[1;33m.\u001b[0m\u001b[0m_iterating\u001b[0m \u001b[1;33m=\u001b[0m \u001b[1;32mFalse\u001b[0m\u001b[1;33m\u001b[0m\u001b[1;33m\u001b[0m\u001b[0m\n\u001b[1;32m-> 1004\u001b[1;33m             \u001b[1;32mif\u001b[0m \u001b[0mself\u001b[0m\u001b[1;33m.\u001b[0m\u001b[0mdispatch_one_batch\u001b[0m\u001b[1;33m(\u001b[0m\u001b[0miterator\u001b[0m\u001b[1;33m)\u001b[0m\u001b[1;33m:\u001b[0m\u001b[1;33m\u001b[0m\u001b[1;33m\u001b[0m\u001b[0m\n\u001b[0m\u001b[0;32m   1005\u001b[0m                 \u001b[0mself\u001b[0m\u001b[1;33m.\u001b[0m\u001b[0m_iterating\u001b[0m \u001b[1;33m=\u001b[0m \u001b[0mself\u001b[0m\u001b[1;33m.\u001b[0m\u001b[0m_original_iterator\u001b[0m \u001b[1;32mis\u001b[0m \u001b[1;32mnot\u001b[0m \u001b[1;32mNone\u001b[0m\u001b[1;33m\u001b[0m\u001b[1;33m\u001b[0m\u001b[0m\n\u001b[0;32m   1006\u001b[0m \u001b[1;33m\u001b[0m\u001b[0m\n",
      "\u001b[1;32m~\\anaconda3\\lib\\site-packages\\joblib\\parallel.py\u001b[0m in \u001b[0;36mdispatch_one_batch\u001b[1;34m(self, iterator)\u001b[0m\n\u001b[0;32m    833\u001b[0m                 \u001b[1;32mreturn\u001b[0m \u001b[1;32mFalse\u001b[0m\u001b[1;33m\u001b[0m\u001b[1;33m\u001b[0m\u001b[0m\n\u001b[0;32m    834\u001b[0m             \u001b[1;32melse\u001b[0m\u001b[1;33m:\u001b[0m\u001b[1;33m\u001b[0m\u001b[1;33m\u001b[0m\u001b[0m\n\u001b[1;32m--> 835\u001b[1;33m                 \u001b[0mself\u001b[0m\u001b[1;33m.\u001b[0m\u001b[0m_dispatch\u001b[0m\u001b[1;33m(\u001b[0m\u001b[0mtasks\u001b[0m\u001b[1;33m)\u001b[0m\u001b[1;33m\u001b[0m\u001b[1;33m\u001b[0m\u001b[0m\n\u001b[0m\u001b[0;32m    836\u001b[0m                 \u001b[1;32mreturn\u001b[0m \u001b[1;32mTrue\u001b[0m\u001b[1;33m\u001b[0m\u001b[1;33m\u001b[0m\u001b[0m\n\u001b[0;32m    837\u001b[0m \u001b[1;33m\u001b[0m\u001b[0m\n",
      "\u001b[1;32m~\\anaconda3\\lib\\site-packages\\joblib\\parallel.py\u001b[0m in \u001b[0;36m_dispatch\u001b[1;34m(self, batch)\u001b[0m\n\u001b[0;32m    752\u001b[0m         \u001b[1;32mwith\u001b[0m \u001b[0mself\u001b[0m\u001b[1;33m.\u001b[0m\u001b[0m_lock\u001b[0m\u001b[1;33m:\u001b[0m\u001b[1;33m\u001b[0m\u001b[1;33m\u001b[0m\u001b[0m\n\u001b[0;32m    753\u001b[0m             \u001b[0mjob_idx\u001b[0m \u001b[1;33m=\u001b[0m \u001b[0mlen\u001b[0m\u001b[1;33m(\u001b[0m\u001b[0mself\u001b[0m\u001b[1;33m.\u001b[0m\u001b[0m_jobs\u001b[0m\u001b[1;33m)\u001b[0m\u001b[1;33m\u001b[0m\u001b[1;33m\u001b[0m\u001b[0m\n\u001b[1;32m--> 754\u001b[1;33m             \u001b[0mjob\u001b[0m \u001b[1;33m=\u001b[0m \u001b[0mself\u001b[0m\u001b[1;33m.\u001b[0m\u001b[0m_backend\u001b[0m\u001b[1;33m.\u001b[0m\u001b[0mapply_async\u001b[0m\u001b[1;33m(\u001b[0m\u001b[0mbatch\u001b[0m\u001b[1;33m,\u001b[0m \u001b[0mcallback\u001b[0m\u001b[1;33m=\u001b[0m\u001b[0mcb\u001b[0m\u001b[1;33m)\u001b[0m\u001b[1;33m\u001b[0m\u001b[1;33m\u001b[0m\u001b[0m\n\u001b[0m\u001b[0;32m    755\u001b[0m             \u001b[1;31m# A job can complete so quickly than its callback is\u001b[0m\u001b[1;33m\u001b[0m\u001b[1;33m\u001b[0m\u001b[1;33m\u001b[0m\u001b[0m\n\u001b[0;32m    756\u001b[0m             \u001b[1;31m# called before we get here, causing self._jobs to\u001b[0m\u001b[1;33m\u001b[0m\u001b[1;33m\u001b[0m\u001b[1;33m\u001b[0m\u001b[0m\n",
      "\u001b[1;32m~\\anaconda3\\lib\\site-packages\\joblib\\_parallel_backends.py\u001b[0m in \u001b[0;36mapply_async\u001b[1;34m(self, func, callback)\u001b[0m\n\u001b[0;32m    207\u001b[0m     \u001b[1;32mdef\u001b[0m \u001b[0mapply_async\u001b[0m\u001b[1;33m(\u001b[0m\u001b[0mself\u001b[0m\u001b[1;33m,\u001b[0m \u001b[0mfunc\u001b[0m\u001b[1;33m,\u001b[0m \u001b[0mcallback\u001b[0m\u001b[1;33m=\u001b[0m\u001b[1;32mNone\u001b[0m\u001b[1;33m)\u001b[0m\u001b[1;33m:\u001b[0m\u001b[1;33m\u001b[0m\u001b[1;33m\u001b[0m\u001b[0m\n\u001b[0;32m    208\u001b[0m         \u001b[1;34m\"\"\"Schedule a func to be run\"\"\"\u001b[0m\u001b[1;33m\u001b[0m\u001b[1;33m\u001b[0m\u001b[0m\n\u001b[1;32m--> 209\u001b[1;33m         \u001b[0mresult\u001b[0m \u001b[1;33m=\u001b[0m \u001b[0mImmediateResult\u001b[0m\u001b[1;33m(\u001b[0m\u001b[0mfunc\u001b[0m\u001b[1;33m)\u001b[0m\u001b[1;33m\u001b[0m\u001b[1;33m\u001b[0m\u001b[0m\n\u001b[0m\u001b[0;32m    210\u001b[0m         \u001b[1;32mif\u001b[0m \u001b[0mcallback\u001b[0m\u001b[1;33m:\u001b[0m\u001b[1;33m\u001b[0m\u001b[1;33m\u001b[0m\u001b[0m\n\u001b[0;32m    211\u001b[0m             \u001b[0mcallback\u001b[0m\u001b[1;33m(\u001b[0m\u001b[0mresult\u001b[0m\u001b[1;33m)\u001b[0m\u001b[1;33m\u001b[0m\u001b[1;33m\u001b[0m\u001b[0m\n",
      "\u001b[1;32m~\\anaconda3\\lib\\site-packages\\joblib\\_parallel_backends.py\u001b[0m in \u001b[0;36m__init__\u001b[1;34m(self, batch)\u001b[0m\n\u001b[0;32m    588\u001b[0m         \u001b[1;31m# Don't delay the application, to avoid keeping the input\u001b[0m\u001b[1;33m\u001b[0m\u001b[1;33m\u001b[0m\u001b[1;33m\u001b[0m\u001b[0m\n\u001b[0;32m    589\u001b[0m         \u001b[1;31m# arguments in memory\u001b[0m\u001b[1;33m\u001b[0m\u001b[1;33m\u001b[0m\u001b[1;33m\u001b[0m\u001b[0m\n\u001b[1;32m--> 590\u001b[1;33m         \u001b[0mself\u001b[0m\u001b[1;33m.\u001b[0m\u001b[0mresults\u001b[0m \u001b[1;33m=\u001b[0m \u001b[0mbatch\u001b[0m\u001b[1;33m(\u001b[0m\u001b[1;33m)\u001b[0m\u001b[1;33m\u001b[0m\u001b[1;33m\u001b[0m\u001b[0m\n\u001b[0m\u001b[0;32m    591\u001b[0m \u001b[1;33m\u001b[0m\u001b[0m\n\u001b[0;32m    592\u001b[0m     \u001b[1;32mdef\u001b[0m \u001b[0mget\u001b[0m\u001b[1;33m(\u001b[0m\u001b[0mself\u001b[0m\u001b[1;33m)\u001b[0m\u001b[1;33m:\u001b[0m\u001b[1;33m\u001b[0m\u001b[1;33m\u001b[0m\u001b[0m\n",
      "\u001b[1;32m~\\anaconda3\\lib\\site-packages\\joblib\\parallel.py\u001b[0m in \u001b[0;36m__call__\u001b[1;34m(self)\u001b[0m\n\u001b[0;32m    254\u001b[0m         \u001b[1;32mwith\u001b[0m \u001b[0mparallel_backend\u001b[0m\u001b[1;33m(\u001b[0m\u001b[0mself\u001b[0m\u001b[1;33m.\u001b[0m\u001b[0m_backend\u001b[0m\u001b[1;33m,\u001b[0m \u001b[0mn_jobs\u001b[0m\u001b[1;33m=\u001b[0m\u001b[0mself\u001b[0m\u001b[1;33m.\u001b[0m\u001b[0m_n_jobs\u001b[0m\u001b[1;33m)\u001b[0m\u001b[1;33m:\u001b[0m\u001b[1;33m\u001b[0m\u001b[1;33m\u001b[0m\u001b[0m\n\u001b[0;32m    255\u001b[0m             return [func(*args, **kwargs)\n\u001b[1;32m--> 256\u001b[1;33m                     for func, args, kwargs in self.items]\n\u001b[0m\u001b[0;32m    257\u001b[0m \u001b[1;33m\u001b[0m\u001b[0m\n\u001b[0;32m    258\u001b[0m     \u001b[1;32mdef\u001b[0m \u001b[0m__len__\u001b[0m\u001b[1;33m(\u001b[0m\u001b[0mself\u001b[0m\u001b[1;33m)\u001b[0m\u001b[1;33m:\u001b[0m\u001b[1;33m\u001b[0m\u001b[1;33m\u001b[0m\u001b[0m\n",
      "\u001b[1;32m~\\anaconda3\\lib\\site-packages\\joblib\\parallel.py\u001b[0m in \u001b[0;36m<listcomp>\u001b[1;34m(.0)\u001b[0m\n\u001b[0;32m    254\u001b[0m         \u001b[1;32mwith\u001b[0m \u001b[0mparallel_backend\u001b[0m\u001b[1;33m(\u001b[0m\u001b[0mself\u001b[0m\u001b[1;33m.\u001b[0m\u001b[0m_backend\u001b[0m\u001b[1;33m,\u001b[0m \u001b[0mn_jobs\u001b[0m\u001b[1;33m=\u001b[0m\u001b[0mself\u001b[0m\u001b[1;33m.\u001b[0m\u001b[0m_n_jobs\u001b[0m\u001b[1;33m)\u001b[0m\u001b[1;33m:\u001b[0m\u001b[1;33m\u001b[0m\u001b[1;33m\u001b[0m\u001b[0m\n\u001b[0;32m    255\u001b[0m             return [func(*args, **kwargs)\n\u001b[1;32m--> 256\u001b[1;33m                     for func, args, kwargs in self.items]\n\u001b[0m\u001b[0;32m    257\u001b[0m \u001b[1;33m\u001b[0m\u001b[0m\n\u001b[0;32m    258\u001b[0m     \u001b[1;32mdef\u001b[0m \u001b[0m__len__\u001b[0m\u001b[1;33m(\u001b[0m\u001b[0mself\u001b[0m\u001b[1;33m)\u001b[0m\u001b[1;33m:\u001b[0m\u001b[1;33m\u001b[0m\u001b[1;33m\u001b[0m\u001b[0m\n",
      "\u001b[1;32m~\\anaconda3\\lib\\site-packages\\sklearn\\model_selection\\_validation.py\u001b[0m in \u001b[0;36m_fit_and_score\u001b[1;34m(estimator, X, y, scorer, train, test, verbose, parameters, fit_params, return_train_score, return_parameters, return_n_test_samples, return_times, return_estimator, error_score)\u001b[0m\n\u001b[0;32m    513\u001b[0m             \u001b[0mestimator\u001b[0m\u001b[1;33m.\u001b[0m\u001b[0mfit\u001b[0m\u001b[1;33m(\u001b[0m\u001b[0mX_train\u001b[0m\u001b[1;33m,\u001b[0m \u001b[1;33m**\u001b[0m\u001b[0mfit_params\u001b[0m\u001b[1;33m)\u001b[0m\u001b[1;33m\u001b[0m\u001b[1;33m\u001b[0m\u001b[0m\n\u001b[0;32m    514\u001b[0m         \u001b[1;32melse\u001b[0m\u001b[1;33m:\u001b[0m\u001b[1;33m\u001b[0m\u001b[1;33m\u001b[0m\u001b[0m\n\u001b[1;32m--> 515\u001b[1;33m             \u001b[0mestimator\u001b[0m\u001b[1;33m.\u001b[0m\u001b[0mfit\u001b[0m\u001b[1;33m(\u001b[0m\u001b[0mX_train\u001b[0m\u001b[1;33m,\u001b[0m \u001b[0my_train\u001b[0m\u001b[1;33m,\u001b[0m \u001b[1;33m**\u001b[0m\u001b[0mfit_params\u001b[0m\u001b[1;33m)\u001b[0m\u001b[1;33m\u001b[0m\u001b[1;33m\u001b[0m\u001b[0m\n\u001b[0m\u001b[0;32m    516\u001b[0m \u001b[1;33m\u001b[0m\u001b[0m\n\u001b[0;32m    517\u001b[0m     \u001b[1;32mexcept\u001b[0m \u001b[0mException\u001b[0m \u001b[1;32mas\u001b[0m \u001b[0me\u001b[0m\u001b[1;33m:\u001b[0m\u001b[1;33m\u001b[0m\u001b[1;33m\u001b[0m\u001b[0m\n",
      "\u001b[1;32m~\\anaconda3\\lib\\site-packages\\xgboost\\sklearn.py\u001b[0m in \u001b[0;36mfit\u001b[1;34m(self, X, y, sample_weight, base_margin, eval_set, eval_metric, early_stopping_rounds, verbose, xgb_model, sample_weight_eval_set, callbacks)\u001b[0m\n\u001b[0;32m    822\u001b[0m                               \u001b[0mevals_result\u001b[0m\u001b[1;33m=\u001b[0m\u001b[0mevals_result\u001b[0m\u001b[1;33m,\u001b[0m \u001b[0mobj\u001b[0m\u001b[1;33m=\u001b[0m\u001b[0mobj\u001b[0m\u001b[1;33m,\u001b[0m \u001b[0mfeval\u001b[0m\u001b[1;33m=\u001b[0m\u001b[0mfeval\u001b[0m\u001b[1;33m,\u001b[0m\u001b[1;33m\u001b[0m\u001b[1;33m\u001b[0m\u001b[0m\n\u001b[0;32m    823\u001b[0m                               \u001b[0mverbose_eval\u001b[0m\u001b[1;33m=\u001b[0m\u001b[0mverbose\u001b[0m\u001b[1;33m,\u001b[0m \u001b[0mxgb_model\u001b[0m\u001b[1;33m=\u001b[0m\u001b[0mxgb_model\u001b[0m\u001b[1;33m,\u001b[0m\u001b[1;33m\u001b[0m\u001b[1;33m\u001b[0m\u001b[0m\n\u001b[1;32m--> 824\u001b[1;33m                               callbacks=callbacks)\n\u001b[0m\u001b[0;32m    825\u001b[0m \u001b[1;33m\u001b[0m\u001b[0m\n\u001b[0;32m    826\u001b[0m         \u001b[0mself\u001b[0m\u001b[1;33m.\u001b[0m\u001b[0mobjective\u001b[0m \u001b[1;33m=\u001b[0m \u001b[0mxgb_options\u001b[0m\u001b[1;33m[\u001b[0m\u001b[1;34m\"objective\"\u001b[0m\u001b[1;33m]\u001b[0m\u001b[1;33m\u001b[0m\u001b[1;33m\u001b[0m\u001b[0m\n",
      "\u001b[1;32m~\\anaconda3\\lib\\site-packages\\xgboost\\training.py\u001b[0m in \u001b[0;36mtrain\u001b[1;34m(params, dtrain, num_boost_round, evals, obj, feval, maximize, early_stopping_rounds, evals_result, verbose_eval, xgb_model, callbacks)\u001b[0m\n\u001b[0;32m    210\u001b[0m                            \u001b[0mevals\u001b[0m\u001b[1;33m=\u001b[0m\u001b[0mevals\u001b[0m\u001b[1;33m,\u001b[0m\u001b[1;33m\u001b[0m\u001b[1;33m\u001b[0m\u001b[0m\n\u001b[0;32m    211\u001b[0m                            \u001b[0mobj\u001b[0m\u001b[1;33m=\u001b[0m\u001b[0mobj\u001b[0m\u001b[1;33m,\u001b[0m \u001b[0mfeval\u001b[0m\u001b[1;33m=\u001b[0m\u001b[0mfeval\u001b[0m\u001b[1;33m,\u001b[0m\u001b[1;33m\u001b[0m\u001b[1;33m\u001b[0m\u001b[0m\n\u001b[1;32m--> 212\u001b[1;33m                            xgb_model=xgb_model, callbacks=callbacks)\n\u001b[0m\u001b[0;32m    213\u001b[0m \u001b[1;33m\u001b[0m\u001b[0m\n\u001b[0;32m    214\u001b[0m \u001b[1;33m\u001b[0m\u001b[0m\n",
      "\u001b[1;32m~\\anaconda3\\lib\\site-packages\\xgboost\\training.py\u001b[0m in \u001b[0;36m_train_internal\u001b[1;34m(params, dtrain, num_boost_round, evals, obj, feval, xgb_model, callbacks)\u001b[0m\n\u001b[0;32m     73\u001b[0m         \u001b[1;31m# Skip the first update if it is a recovery step.\u001b[0m\u001b[1;33m\u001b[0m\u001b[1;33m\u001b[0m\u001b[1;33m\u001b[0m\u001b[0m\n\u001b[0;32m     74\u001b[0m         \u001b[1;32mif\u001b[0m \u001b[0mversion\u001b[0m \u001b[1;33m%\u001b[0m \u001b[1;36m2\u001b[0m \u001b[1;33m==\u001b[0m \u001b[1;36m0\u001b[0m\u001b[1;33m:\u001b[0m\u001b[1;33m\u001b[0m\u001b[1;33m\u001b[0m\u001b[0m\n\u001b[1;32m---> 75\u001b[1;33m             \u001b[0mbst\u001b[0m\u001b[1;33m.\u001b[0m\u001b[0mupdate\u001b[0m\u001b[1;33m(\u001b[0m\u001b[0mdtrain\u001b[0m\u001b[1;33m,\u001b[0m \u001b[0mi\u001b[0m\u001b[1;33m,\u001b[0m \u001b[0mobj\u001b[0m\u001b[1;33m)\u001b[0m\u001b[1;33m\u001b[0m\u001b[1;33m\u001b[0m\u001b[0m\n\u001b[0m\u001b[0;32m     76\u001b[0m             \u001b[0mbst\u001b[0m\u001b[1;33m.\u001b[0m\u001b[0msave_rabit_checkpoint\u001b[0m\u001b[1;33m(\u001b[0m\u001b[1;33m)\u001b[0m\u001b[1;33m\u001b[0m\u001b[1;33m\u001b[0m\u001b[0m\n\u001b[0;32m     77\u001b[0m             \u001b[0mversion\u001b[0m \u001b[1;33m+=\u001b[0m \u001b[1;36m1\u001b[0m\u001b[1;33m\u001b[0m\u001b[1;33m\u001b[0m\u001b[0m\n",
      "\u001b[1;32m~\\anaconda3\\lib\\site-packages\\xgboost\\core.py\u001b[0m in \u001b[0;36mupdate\u001b[1;34m(self, dtrain, iteration, fobj)\u001b[0m\n\u001b[0;32m   1367\u001b[0m             _check_call(_LIB.XGBoosterUpdateOneIter(self.handle,\n\u001b[0;32m   1368\u001b[0m                                                     \u001b[0mctypes\u001b[0m\u001b[1;33m.\u001b[0m\u001b[0mc_int\u001b[0m\u001b[1;33m(\u001b[0m\u001b[0miteration\u001b[0m\u001b[1;33m)\u001b[0m\u001b[1;33m,\u001b[0m\u001b[1;33m\u001b[0m\u001b[1;33m\u001b[0m\u001b[0m\n\u001b[1;32m-> 1369\u001b[1;33m                                                     dtrain.handle))\n\u001b[0m\u001b[0;32m   1370\u001b[0m         \u001b[1;32melse\u001b[0m\u001b[1;33m:\u001b[0m\u001b[1;33m\u001b[0m\u001b[1;33m\u001b[0m\u001b[0m\n\u001b[0;32m   1371\u001b[0m             \u001b[0mpred\u001b[0m \u001b[1;33m=\u001b[0m \u001b[0mself\u001b[0m\u001b[1;33m.\u001b[0m\u001b[0mpredict\u001b[0m\u001b[1;33m(\u001b[0m\u001b[0mdtrain\u001b[0m\u001b[1;33m,\u001b[0m \u001b[0moutput_margin\u001b[0m\u001b[1;33m=\u001b[0m\u001b[1;32mTrue\u001b[0m\u001b[1;33m,\u001b[0m \u001b[0mtraining\u001b[0m\u001b[1;33m=\u001b[0m\u001b[1;32mTrue\u001b[0m\u001b[1;33m)\u001b[0m\u001b[1;33m\u001b[0m\u001b[1;33m\u001b[0m\u001b[0m\n",
      "\u001b[1;31mKeyboardInterrupt\u001b[0m: "
     ]
    }
   ],
   "source": [
    "from xgboost import XGBClassifier\n",
    "from sklearn.model_selection import RepeatedStratifiedKFold\n",
    "from sklearn.model_selection import cross_val_score\n",
    "model = XGBClassifier()\n",
    "cv = RepeatedStratifiedKFold(n_splits=5, n_repeats=3, random_state=1)\n",
    "n_scores = cross_val_score(model, X_train, y_train, scoring='accuracy', cv=cv, n_jobs=1, error_score='raise')\n",
    "print('Accuracy: %.3f (%.3f)' % (np.mean(n_scores), np.std(n_scores)))"
   ]
  },
  {
   "cell_type": "code",
   "execution_count": 460,
   "metadata": {},
   "outputs": [
    {
     "name": "stdout",
     "output_type": "stream",
     "text": [
      "Accuracy: 0.682\n"
     ]
    }
   ],
   "source": [
    "# fit the model on the whole dataset\n",
    "model = XGBClassifier()\n",
    "model.fit(X_train, y_train)\n",
    "# make a single prediction\n",
    "yhat = model.predict(X_val)\n",
    "print('Accuracy: %.3f' % (accuracy_score(yhat, y_val)))"
   ]
  },
  {
   "cell_type": "code",
   "execution_count": 461,
   "metadata": {},
   "outputs": [
    {
     "name": "stdout",
     "output_type": "stream",
     "text": [
      "Accuracy: 0.716 (0.009)\n"
     ]
    }
   ],
   "source": [
    "from lightgbm import LGBMClassifier\n",
    "model = LGBMClassifier()\n",
    "cv = RepeatedStratifiedKFold(n_splits=5, n_repeats=3, random_state=1)\n",
    "n_scores = cross_val_score(model, X_train, y_train, scoring='accuracy', cv=cv, n_jobs=1, error_score='raise')\n",
    "print('Accuracy: %.3f (%.3f)' % (np.mean(n_scores), np.std(n_scores)))"
   ]
  },
  {
   "cell_type": "code",
   "execution_count": 462,
   "metadata": {},
   "outputs": [
    {
     "name": "stdout",
     "output_type": "stream",
     "text": [
      "Accuracy: 0.693\n"
     ]
    }
   ],
   "source": [
    "# fit the model on the whole dataset\n",
    "model = LGBMClassifier()\n",
    "model.fit(X_train, y_train)\n",
    "# make a single prediction\n",
    "yhat = model.predict(X_val)\n",
    "print('Accuracy: %.3f' % (accuracy_score(yhat, y_val)))"
   ]
  },
  {
   "cell_type": "code",
   "execution_count": 785,
   "metadata": {},
   "outputs": [],
   "source": [
    "from scipy.stats import randint as sp_randint\n",
    "from scipy.stats import uniform as sp_uniform\n",
    "param_test ={'num_leaves': sp_randint(6, 50), \n",
    "             'min_child_samples': sp_randint(100, 500), \n",
    "             'min_child_weight': [1e-5, 1e-3, 1e-2, 1e-1, 1, 1e1, 1e2, 1e3, 1e4],\n",
    "             'subsample': sp_uniform(loc=0.2, scale=0.8), \n",
    "             'colsample_bytree': sp_uniform(loc=0.4, scale=0.6),\n",
    "             'reg_alpha': [0, 1e-1, 1, 2, 5, 7, 10, 50, 100],\n",
    "             'reg_lambda': [0, 1e-1, 1, 5, 10, 20, 50, 100],\n",
    "             'n_estimators': [50, 70, 100, 150, 200]}"
   ]
  },
  {
   "cell_type": "code",
   "execution_count": 792,
   "metadata": {},
   "outputs": [],
   "source": [
    "from sklearn.model_selection import RandomizedSearchCV, GridSearchCV\n",
    "clf = LGBMClassifier(max_depth=-1, random_state=10, silent=True, metric='accuracy', n_jobs=1, n_estimators=150)\n",
    "gs = RandomizedSearchCV(\n",
    "    estimator=clf, param_distributions=param_test, \n",
    "    n_iter=100,\n",
    "    scoring='accuracy',\n",
    "    cv=3,\n",
    "    refit=True,\n",
    "    random_state=314,\n",
    "    verbose=True)"
   ]
  },
  {
   "cell_type": "code",
   "execution_count": 796,
   "metadata": {},
   "outputs": [
    {
     "name": "stdout",
     "output_type": "stream",
     "text": [
      "Fitting 3 folds for each of 100 candidates, totalling 300 fits\n"
     ]
    },
    {
     "name": "stderr",
     "output_type": "stream",
     "text": [
      "[Parallel(n_jobs=1)]: Using backend SequentialBackend with 1 concurrent workers.\n"
     ]
    },
    {
     "name": "stdout",
     "output_type": "stream",
     "text": [
      "Best score reached: 0.6700015217349596 with params: {'colsample_bytree': 0.5912347387847595, 'min_child_samples': 321, 'min_child_weight': 1e-05, 'n_estimators': 50, 'num_leaves': 9, 'reg_alpha': 5, 'reg_lambda': 5, 'subsample': 0.28755441437275425} \n"
     ]
    },
    {
     "name": "stderr",
     "output_type": "stream",
     "text": [
      "[Parallel(n_jobs=1)]: Done 300 out of 300 | elapsed:   41.6s finished\n"
     ]
    }
   ],
   "source": [
    "gs.fit(X_train, y_train)\n",
    "print('Best score reached: {} with params: {} '.format(gs.best_score_, gs.best_params_))"
   ]
  },
  {
   "cell_type": "code",
   "execution_count": 794,
   "metadata": {},
   "outputs": [
    {
     "data": {
      "text/plain": [
       "LGBMClassifier(boosting_type='gbdt', class_weight=None,\n",
       "               colsample_bytree=0.5912347387847595, importance_type='split',\n",
       "               learning_rate=0.1, max_depth=40, metric='accuracy',\n",
       "               min_child_samples=321, min_child_weight=1e-05,\n",
       "               min_split_gain=0.0, n_estimators=50, n_jobs=1, num_leaves=9,\n",
       "               objective=None, random_state=314, reg_alpha=5, reg_lambda=5,\n",
       "               silent=True, subsample=0.28755441437275425,\n",
       "               subsample_for_bin=200000, subsample_freq=0)"
      ]
     },
     "execution_count": 794,
     "metadata": {},
     "output_type": "execute_result"
    }
   ],
   "source": [
    "clf_sw = LGBMClassifier(**clf.get_params())\n",
    "#set optimal parameters\n",
    "clf_sw.set_params(**gs.best_params_)\n",
    "clf_sw.fit(X_train, y_train)"
   ]
  },
  {
   "cell_type": "code",
   "execution_count": 795,
   "metadata": {},
   "outputs": [
    {
     "data": {
      "text/plain": [
       "0.675"
      ]
     },
     "execution_count": 795,
     "metadata": {},
     "output_type": "execute_result"
    }
   ],
   "source": [
    "y_hat = clf_sw.predict(X_val)\n",
    "accuracy_score(y_hat, y_val)"
   ]
  },
  {
   "cell_type": "code",
   "execution_count": 791,
   "metadata": {},
   "outputs": [],
   "source": [
    "def get_test_df():\n",
    "    df_test = pd.read_csv(\"test.csv\")\n",
    "    df_test.drop(cols_remove, axis = 1, inplace=True)\n",
    "    df_test[num_cols] = ss.transform(df_test[num_cols])\n",
    "    for col in cat_cols:\n",
    "        df_test = expanding_mean(df_test, col)\n",
    "    df_test =  pd.get_dummies(df_test, columns = cat_cols, drop_first=True)\n",
    "    return df_test"
   ]
  },
  {
   "cell_type": "code",
   "execution_count": 753,
   "metadata": {},
   "outputs": [],
   "source": [
    "df_test = get_test_df()"
   ]
  },
  {
   "cell_type": "code",
   "execution_count": 754,
   "metadata": {},
   "outputs": [
    {
     "data": {
      "text/html": [
       "<div>\n",
       "<style scoped>\n",
       "    .dataframe tbody tr th:only-of-type {\n",
       "        vertical-align: middle;\n",
       "    }\n",
       "\n",
       "    .dataframe tbody tr th {\n",
       "        vertical-align: top;\n",
       "    }\n",
       "\n",
       "    .dataframe thead th {\n",
       "        text-align: right;\n",
       "    }\n",
       "</style>\n",
       "<table border=\"1\" class=\"dataframe\">\n",
       "  <thead>\n",
       "    <tr style=\"text-align: right;\">\n",
       "      <th></th>\n",
       "      <th>family_members_count</th>\n",
       "      <th>avg_sleep_hours</th>\n",
       "      <th>daily_household_water_usage</th>\n",
       "      <th>fast_food_meals_per_month</th>\n",
       "      <th>gender_mean</th>\n",
       "      <th>blood_type_mean</th>\n",
       "      <th>occupation_mean</th>\n",
       "      <th>living_area_mean</th>\n",
       "      <th>sports_engagement_mean</th>\n",
       "      <th>owns_a_pet_mean</th>\n",
       "      <th>...</th>\n",
       "      <th>owns_a_pet_yes</th>\n",
       "      <th>has_health_insurance_yes</th>\n",
       "      <th>has_cancer_yes</th>\n",
       "      <th>smokes_yes</th>\n",
       "      <th>has_alzheimers_yes</th>\n",
       "      <th>diet_type_low-carb</th>\n",
       "      <th>diet_type_paleo</th>\n",
       "      <th>diet_type_regular</th>\n",
       "      <th>diet_type_vegan</th>\n",
       "      <th>diet_type_vegetarian</th>\n",
       "    </tr>\n",
       "  </thead>\n",
       "  <tbody>\n",
       "    <tr>\n",
       "      <th>0</th>\n",
       "      <td>0.899578</td>\n",
       "      <td>0.220356</td>\n",
       "      <td>0.741821</td>\n",
       "      <td>-0.375782</td>\n",
       "      <td>0.3343</td>\n",
       "      <td>0.3343</td>\n",
       "      <td>0.3343</td>\n",
       "      <td>0.3343</td>\n",
       "      <td>0.3343</td>\n",
       "      <td>0.3343</td>\n",
       "      <td>...</td>\n",
       "      <td>0</td>\n",
       "      <td>1</td>\n",
       "      <td>0</td>\n",
       "      <td>1</td>\n",
       "      <td>0</td>\n",
       "      <td>0</td>\n",
       "      <td>0</td>\n",
       "      <td>1</td>\n",
       "      <td>0</td>\n",
       "      <td>0</td>\n",
       "    </tr>\n",
       "    <tr>\n",
       "      <th>1</th>\n",
       "      <td>-0.735646</td>\n",
       "      <td>0.220356</td>\n",
       "      <td>-0.784473</td>\n",
       "      <td>-0.613140</td>\n",
       "      <td>0.3343</td>\n",
       "      <td>0.3343</td>\n",
       "      <td>0.3343</td>\n",
       "      <td>0.3343</td>\n",
       "      <td>0.0000</td>\n",
       "      <td>0.0000</td>\n",
       "      <td>...</td>\n",
       "      <td>0</td>\n",
       "      <td>1</td>\n",
       "      <td>1</td>\n",
       "      <td>0</td>\n",
       "      <td>0</td>\n",
       "      <td>0</td>\n",
       "      <td>0</td>\n",
       "      <td>1</td>\n",
       "      <td>0</td>\n",
       "      <td>0</td>\n",
       "    </tr>\n",
       "    <tr>\n",
       "      <th>2</th>\n",
       "      <td>0.245488</td>\n",
       "      <td>-1.455885</td>\n",
       "      <td>-0.127797</td>\n",
       "      <td>-0.731820</td>\n",
       "      <td>0.0000</td>\n",
       "      <td>0.3343</td>\n",
       "      <td>0.0000</td>\n",
       "      <td>0.3343</td>\n",
       "      <td>0.3343</td>\n",
       "      <td>0.0000</td>\n",
       "      <td>...</td>\n",
       "      <td>0</td>\n",
       "      <td>0</td>\n",
       "      <td>0</td>\n",
       "      <td>1</td>\n",
       "      <td>0</td>\n",
       "      <td>0</td>\n",
       "      <td>0</td>\n",
       "      <td>1</td>\n",
       "      <td>0</td>\n",
       "      <td>0</td>\n",
       "    </tr>\n",
       "    <tr>\n",
       "      <th>3</th>\n",
       "      <td>-1.062691</td>\n",
       "      <td>0.220356</td>\n",
       "      <td>-1.170762</td>\n",
       "      <td>1.048366</td>\n",
       "      <td>0.0000</td>\n",
       "      <td>0.0000</td>\n",
       "      <td>0.3343</td>\n",
       "      <td>0.0000</td>\n",
       "      <td>0.0000</td>\n",
       "      <td>0.0000</td>\n",
       "      <td>...</td>\n",
       "      <td>0</td>\n",
       "      <td>1</td>\n",
       "      <td>0</td>\n",
       "      <td>0</td>\n",
       "      <td>0</td>\n",
       "      <td>0</td>\n",
       "      <td>0</td>\n",
       "      <td>1</td>\n",
       "      <td>0</td>\n",
       "      <td>0</td>\n",
       "    </tr>\n",
       "    <tr>\n",
       "      <th>4</th>\n",
       "      <td>1.226622</td>\n",
       "      <td>-0.338391</td>\n",
       "      <td>1.364898</td>\n",
       "      <td>-0.375782</td>\n",
       "      <td>0.0000</td>\n",
       "      <td>0.0000</td>\n",
       "      <td>0.3343</td>\n",
       "      <td>0.0000</td>\n",
       "      <td>0.0000</td>\n",
       "      <td>0.3343</td>\n",
       "      <td>...</td>\n",
       "      <td>1</td>\n",
       "      <td>1</td>\n",
       "      <td>0</td>\n",
       "      <td>0</td>\n",
       "      <td>0</td>\n",
       "      <td>0</td>\n",
       "      <td>0</td>\n",
       "      <td>1</td>\n",
       "      <td>0</td>\n",
       "      <td>0</td>\n",
       "    </tr>\n",
       "  </tbody>\n",
       "</table>\n",
       "<p>5 rows × 46 columns</p>\n",
       "</div>"
      ],
      "text/plain": [
       "   family_members_count  avg_sleep_hours  daily_household_water_usage  \\\n",
       "0              0.899578         0.220356                     0.741821   \n",
       "1             -0.735646         0.220356                    -0.784473   \n",
       "2              0.245488        -1.455885                    -0.127797   \n",
       "3             -1.062691         0.220356                    -1.170762   \n",
       "4              1.226622        -0.338391                     1.364898   \n",
       "\n",
       "   fast_food_meals_per_month  gender_mean  blood_type_mean  occupation_mean  \\\n",
       "0                  -0.375782       0.3343           0.3343           0.3343   \n",
       "1                  -0.613140       0.3343           0.3343           0.3343   \n",
       "2                  -0.731820       0.0000           0.3343           0.0000   \n",
       "3                   1.048366       0.0000           0.0000           0.3343   \n",
       "4                  -0.375782       0.0000           0.0000           0.3343   \n",
       "\n",
       "   living_area_mean  sports_engagement_mean  owns_a_pet_mean  ...  \\\n",
       "0            0.3343                  0.3343           0.3343  ...   \n",
       "1            0.3343                  0.0000           0.0000  ...   \n",
       "2            0.3343                  0.3343           0.0000  ...   \n",
       "3            0.0000                  0.0000           0.0000  ...   \n",
       "4            0.0000                  0.0000           0.3343  ...   \n",
       "\n",
       "   owns_a_pet_yes  has_health_insurance_yes  has_cancer_yes  smokes_yes  \\\n",
       "0               0                         1               0           1   \n",
       "1               0                         1               1           0   \n",
       "2               0                         0               0           1   \n",
       "3               0                         1               0           0   \n",
       "4               1                         1               0           0   \n",
       "\n",
       "   has_alzheimers_yes  diet_type_low-carb  diet_type_paleo  diet_type_regular  \\\n",
       "0                   0                   0                0                  1   \n",
       "1                   0                   0                0                  1   \n",
       "2                   0                   0                0                  1   \n",
       "3                   0                   0                0                  1   \n",
       "4                   0                   0                0                  1   \n",
       "\n",
       "   diet_type_vegan  diet_type_vegetarian  \n",
       "0                0                     0  \n",
       "1                0                     0  \n",
       "2                0                     0  \n",
       "3                0                     0  \n",
       "4                0                     0  \n",
       "\n",
       "[5 rows x 46 columns]"
      ]
     },
     "execution_count": 754,
     "metadata": {},
     "output_type": "execute_result"
    }
   ],
   "source": [
    "df_test.head()"
   ]
  },
  {
   "cell_type": "code",
   "execution_count": 755,
   "metadata": {},
   "outputs": [
    {
     "data": {
      "text/plain": [
       "0.3215"
      ]
     },
     "execution_count": 755,
     "metadata": {},
     "output_type": "execute_result"
    }
   ],
   "source": [
    "y_pred = clf_sw.predict(df_test)\n",
    "sum(y_pred)/len(y_pred)"
   ]
  },
  {
   "cell_type": "code",
   "execution_count": 708,
   "metadata": {
    "scrolled": true
   },
   "outputs": [],
   "source": [
    "def save_df(y_pred):\n",
    "    out_df=pd.DataFrame(y_pred, columns= ['prediction'])\n",
    "    out_df.index.names = ['id']\n",
    "    out_df.index += 1 \n",
    "    out_df.to_csv('out.csv')"
   ]
  },
  {
   "cell_type": "code",
   "execution_count": 709,
   "metadata": {},
   "outputs": [],
   "source": [
    "save_df(y_pred)"
   ]
  },
  {
   "cell_type": "code",
   "execution_count": 710,
   "metadata": {
    "scrolled": true
   },
   "outputs": [
    {
     "data": {
      "text/plain": [
       "RFECV(cv=StratifiedKFold(n_splits=3, random_state=None, shuffle=False),\n",
       "      estimator=LGBMClassifier(boosting_type='gbdt', class_weight=None,\n",
       "                               colsample_bytree=1.0, importance_type='split',\n",
       "                               learning_rate=0.1, max_depth=-1,\n",
       "                               min_child_samples=20, min_child_weight=0.001,\n",
       "                               min_split_gain=0.0, n_estimators=100, n_jobs=-1,\n",
       "                               num_leaves=31, objective=None, random_state=None,\n",
       "                               reg_alpha=0.0, reg_lambda=0.0, silent=True,\n",
       "                               subsample=1.0, subsample_for_bin=200000,\n",
       "                               subsample_freq=0),\n",
       "      min_features_to_select=1, n_jobs=None, scoring='accuracy', step=1,\n",
       "      verbose=0)"
      ]
     },
     "execution_count": 710,
     "metadata": {},
     "output_type": "execute_result"
    }
   ],
   "source": [
    "from sklearn.feature_selection import RFECV\n",
    "from sklearn.model_selection import StratifiedKFold\n",
    "\n",
    "rfc = LGBMClassifier()\n",
    "rfecv = RFECV(estimator=rfc, step=1, cv=StratifiedKFold(3), scoring='accuracy')\n",
    "rfecv.fit(X_train, y_train)"
   ]
  },
  {
   "cell_type": "code",
   "execution_count": 711,
   "metadata": {},
   "outputs": [
    {
     "name": "stdout",
     "output_type": "stream",
     "text": [
      "Optimal number of features: 85\n"
     ]
    }
   ],
   "source": [
    "print('Optimal number of features: {}'.format(rfecv.n_features_))"
   ]
  },
  {
   "cell_type": "code",
   "execution_count": 712,
   "metadata": {},
   "outputs": [
    {
     "data": {
      "image/png": "[encoded data removed]",
      "text/plain": [
       "<Figure size 1152x648 with 1 Axes>"
      ]
     },
     "metadata": {
      "needs_background": "light"
     },
     "output_type": "display_data"
    }
   ],
   "source": [
    "plt.figure(figsize=(16, 9))\n",
    "plt.title('Recursive Feature Elimination with Cross-Validation', fontsize=18, fontweight='bold', pad=20)\n",
    "plt.xlabel('Number of features selected', fontsize=14, labelpad=20)\n",
    "plt.ylabel('% Correct Classification', fontsize=14, labelpad=20)\n",
    "plt.plot(range(1, len(rfecv.grid_scores_) + 1), rfecv.grid_scores_, color='#303F9F', linewidth=3)\n",
    "\n",
    "plt.show()"
   ]
  },
  {
   "cell_type": "code",
   "execution_count": 713,
   "metadata": {},
   "outputs": [],
   "source": [
    "X_rfe = rfecv.transform(X)"
   ]
  },
  {
   "cell_type": "code",
   "execution_count": 714,
   "metadata": {},
   "outputs": [
    {
     "name": "stdout",
     "output_type": "stream",
     "text": [
      "X_train.shape = (6400, 85)\n",
      "y_train.shape = (6400,)\n",
      "X_val.shape = (1600, 85)\n",
      "y_val.shape = (1600,)\n"
     ]
    }
   ],
   "source": [
    "from sklearn.model_selection import train_test_split\n",
    "X_train, X_val, y_train, y_val = train_test_split(X_rfe, y, test_size=0.2, stratify = y)\n",
    "print(f'X_train.shape = {X_train.shape}')\n",
    "print(f'y_train.shape = {y_train.shape}')\n",
    "print(f'X_val.shape = {X_val.shape}')\n",
    "print(f'y_val.shape = {y_val.shape}')"
   ]
  },
  {
   "cell_type": "code",
   "execution_count": 715,
   "metadata": {},
   "outputs": [],
   "source": [
    "from sklearn.model_selection import RandomizedSearchCV, GridSearchCV\n",
    "clf = LGBMClassifier(max_depth=-1, random_state=314, silent=True, metric='accuracy', n_jobs=1, n_estimators=150)\n",
    "gs = RandomizedSearchCV(\n",
    "    estimator=clf, param_distributions=param_test, \n",
    "    n_iter=100,\n",
    "    scoring='accuracy',\n",
    "    cv=3,\n",
    "    refit=True,\n",
    "    random_state=314,\n",
    "    verbose=True)"
   ]
  },
  {
   "cell_type": "code",
   "execution_count": 716,
   "metadata": {},
   "outputs": [],
   "source": [
    "fit_params={\"eval_metric\" : 'accuracy', \n",
    "            \"eval_set\" : [(X_val,y_val)],\n",
    "            'eval_names': ['valid'],\n",
    "            'verbose': 100,\n",
    "            'categorical_feature': 'auto'}"
   ]
  },
  {
   "cell_type": "code",
   "execution_count": 717,
   "metadata": {},
   "outputs": [
    {
     "name": "stdout",
     "output_type": "stream",
     "text": [
      "Fitting 3 folds for each of 100 candidates, totalling 300 fits\n"
     ]
    },
    {
     "name": "stderr",
     "output_type": "stream",
     "text": [
      "[Parallel(n_jobs=1)]: Using backend SequentialBackend with 1 concurrent workers.\n",
      "[Parallel(n_jobs=1)]: Done 300 out of 300 | elapsed:  1.4min finished\n"
     ]
    },
    {
     "name": "stdout",
     "output_type": "stream",
     "text": [
      "Best score reached: 0.731719957414855 with params: {'colsample_bytree': 0.6433117836032942, 'min_child_samples': 224, 'min_child_weight': 1e-05, 'n_estimators': 200, 'num_leaves': 7, 'reg_alpha': 1, 'reg_lambda': 20, 'subsample': 0.27963305897119684} \n"
     ]
    }
   ],
   "source": [
    "gs.fit(X_train, y_train, **fit_params)\n",
    "print('Best score reached: {} with params: {} '.format(gs.best_score_, gs.best_params_))"
   ]
  },
  {
   "cell_type": "code",
   "execution_count": 718,
   "metadata": {},
   "outputs": [
    {
     "data": {
      "text/plain": [
       "LGBMClassifier(boosting_type='gbdt', class_weight=None,\n",
       "               colsample_bytree=0.6433117836032942, importance_type='split',\n",
       "               learning_rate=0.1, max_depth=-1, metric='accuracy',\n",
       "               min_child_samples=224, min_child_weight=1e-05,\n",
       "               min_split_gain=0.0, n_estimators=200, n_jobs=1, num_leaves=7,\n",
       "               objective=None, random_state=314, reg_alpha=1, reg_lambda=20,\n",
       "               silent=True, subsample=0.27963305897119684,\n",
       "               subsample_for_bin=200000, subsample_freq=0)"
      ]
     },
     "execution_count": 718,
     "metadata": {},
     "output_type": "execute_result"
    }
   ],
   "source": [
    "clf_sw = LGBMClassifier(**clf.get_params())\n",
    "#set optimal parameters\n",
    "clf_sw.set_params(**gs.best_params_)\n",
    "clf_sw.fit(X_train, y_train)"
   ]
  },
  {
   "cell_type": "code",
   "execution_count": 719,
   "metadata": {},
   "outputs": [
    {
     "data": {
      "text/plain": [
       "0.71875"
      ]
     },
     "execution_count": 719,
     "metadata": {},
     "output_type": "execute_result"
    }
   ],
   "source": [
    "y_hat = clf_sw.predict(X_val)\n",
    "accuracy_score(y_hat, y_val)"
   ]
  },
  {
   "cell_type": "code",
   "execution_count": 720,
   "metadata": {},
   "outputs": [],
   "source": [
    "X_test_rfe = rfecv.transform(df_test)"
   ]
  },
  {
   "cell_type": "code",
   "execution_count": 721,
   "metadata": {},
   "outputs": [
    {
     "data": {
      "text/plain": [
       "0.397"
      ]
     },
     "execution_count": 721,
     "metadata": {},
     "output_type": "execute_result"
    }
   ],
   "source": [
    "y_pred = clf_sw.predict(X_test_rfe)\n",
    "sum(y_pred)/len(y_pred)"
   ]
  },
  {
   "cell_type": "code",
   "execution_count": 722,
   "metadata": {},
   "outputs": [],
   "source": [
    "save_df(out_df)"
   ]
  },
  {
   "cell_type": "code",
   "execution_count": null,
   "metadata": {},
   "outputs": [],
   "source": []
  }
 ],
 "metadata": {
  "kernelspec": {
   "display_name": "Python 3",
   "language": "python",
   "name": "python3"
  },
  "language_info": {
   "codemirror_mode": {
    "name": "ipython",
    "version": 3
   },
   "file_extension": ".py",
   "mimetype": "text/x-python",
   "name": "python",
   "nbconvert_exporter": "python",
   "pygments_lexer": "ipython3",
   "version": "3.7.6"
  }
 },
 "nbformat": 4,
 "nbformat_minor": 4
}
